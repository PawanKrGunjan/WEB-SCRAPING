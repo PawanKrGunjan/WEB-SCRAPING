{
 "cells": [
  {
   "cell_type": "code",
   "execution_count": 1,
   "id": "2a230072",
   "metadata": {},
   "outputs": [],
   "source": [
    "import requests"
   ]
  },
  {
   "cell_type": "code",
   "execution_count": 2,
   "id": "99567ac5",
   "metadata": {},
   "outputs": [],
   "source": [
    "link = 'http://quotes.toscrape.com/'"
   ]
  },
  {
   "cell_type": "code",
   "execution_count": 3,
   "id": "094cc385",
   "metadata": {},
   "outputs": [],
   "source": [
    "res = requests.get(link)"
   ]
  },
  {
   "cell_type": "code",
   "execution_count": 4,
   "id": "92d71f8f",
   "metadata": {},
   "outputs": [
    {
     "name": "stdout",
     "output_type": "stream",
     "text": [
      "<!DOCTYPE html>\n",
      "<html lang=\"en\">\n",
      "<head>\n",
      "\t<meta charset=\"UTF-8\">\n",
      "\t<title>Quotes to Scrape</title>\n",
      "    <link rel=\"stylesheet\" href=\"/static/bootstrap.min.css\">\n",
      "    <link rel=\"stylesheet\" href=\"/static/main.css\">\n",
      "</head>\n",
      "<body>\n",
      "    <div class=\"container\">\n",
      "        <div class=\"row header-box\">\n",
      "            <div class=\"col-md-8\">\n",
      "                <h1>\n",
      "                    <a href=\"/\" style=\"text-decoration: none\">Quotes to Scrape</a>\n",
      "                </h1>\n",
      "            </div>\n",
      "            <div class=\"col-md-4\">\n",
      "                <p>\n",
      "                \n",
      "                    <a href=\"/login\">Login</a>\n",
      "                \n",
      "                </p>\n",
      "            </div>\n",
      "        </div>\n",
      "    \n",
      "\n",
      "<div class=\"row\">\n",
      "    <div class=\"col-md-8\">\n",
      "\n",
      "    <div class=\"quote\" itemscope itemtype=\"http://schema.org/CreativeWork\">\n",
      "        <span class=\"text\" itemprop=\"text\">“The world as we have created it is a process of our thinking. It cannot be changed without changing our thinking.”</span>\n",
      "        <span>by <small class=\"author\" itemprop=\"author\">Albert Einstein</small>\n",
      "        <a href=\"/author/Albert-Einstein\">(about)</a>\n",
      "        </span>\n",
      "        <div class=\"tags\">\n",
      "            Tags:\n",
      "            <meta class=\"keywords\" itemprop=\"keywords\" content=\"change,deep-thoughts,thinking,world\" /    > \n",
      "            \n",
      "            <a class=\"tag\" href=\"/tag/change/page/1/\">change</a>\n",
      "            \n",
      "            <a class=\"tag\" href=\"/tag/deep-thoughts/page/1/\">deep-thoughts</a>\n",
      "            \n",
      "            <a class=\"tag\" href=\"/tag/thinking/page/1/\">thinking</a>\n",
      "            \n",
      "            <a class=\"tag\" href=\"/tag/world/page/1/\">world</a>\n",
      "            \n",
      "        </div>\n",
      "    </div>\n",
      "\n",
      "    <div class=\"quote\" itemscope itemtype=\"http://schema.org/CreativeWork\">\n",
      "        <span class=\"text\" itemprop=\"text\">“It is our choices, Harry, that show what we truly are, far more than our abilities.”</span>\n",
      "        <span>by <small class=\"author\" itemprop=\"author\">J.K. Rowling</small>\n",
      "        <a href=\"/author/J-K-Rowling\">(about)</a>\n",
      "        </span>\n",
      "        <div class=\"tags\">\n",
      "            Tags:\n",
      "            <meta class=\"keywords\" itemprop=\"keywords\" content=\"abilities,choices\" /    > \n",
      "            \n",
      "            <a class=\"tag\" href=\"/tag/abilities/page/1/\">abilities</a>\n",
      "            \n",
      "            <a class=\"tag\" href=\"/tag/choices/page/1/\">choices</a>\n",
      "            \n",
      "        </div>\n",
      "    </div>\n",
      "\n",
      "    <div class=\"quote\" itemscope itemtype=\"http://schema.org/CreativeWork\">\n",
      "        <span class=\"text\" itemprop=\"text\">“There are only two ways to live your life. One is as though nothing is a miracle. The other is as though everything is a miracle.”</span>\n",
      "        <span>by <small class=\"author\" itemprop=\"author\">Albert Einstein</small>\n",
      "        <a href=\"/author/Albert-Einstein\">(about)</a>\n",
      "        </span>\n",
      "        <div class=\"tags\">\n",
      "            Tags:\n",
      "            <meta class=\"keywords\" itemprop=\"keywords\" content=\"inspirational,life,live,miracle,miracles\" /    > \n",
      "            \n",
      "            <a class=\"tag\" href=\"/tag/inspirational/page/1/\">inspirational</a>\n",
      "            \n",
      "            <a class=\"tag\" href=\"/tag/life/page/1/\">life</a>\n",
      "            \n",
      "            <a class=\"tag\" href=\"/tag/live/page/1/\">live</a>\n",
      "            \n",
      "            <a class=\"tag\" href=\"/tag/miracle/page/1/\">miracle</a>\n",
      "            \n",
      "            <a class=\"tag\" href=\"/tag/miracles/page/1/\">miracles</a>\n",
      "            \n",
      "        </div>\n",
      "    </div>\n",
      "\n",
      "    <div class=\"quote\" itemscope itemtype=\"http://schema.org/CreativeWork\">\n",
      "        <span class=\"text\" itemprop=\"text\">“The person, be it gentleman or lady, who has not pleasure in a good novel, must be intolerably stupid.”</span>\n",
      "        <span>by <small class=\"author\" itemprop=\"author\">Jane Austen</small>\n",
      "        <a href=\"/author/Jane-Austen\">(about)</a>\n",
      "        </span>\n",
      "        <div class=\"tags\">\n",
      "            Tags:\n",
      "            <meta class=\"keywords\" itemprop=\"keywords\" content=\"aliteracy,books,classic,humor\" /    > \n",
      "            \n",
      "            <a class=\"tag\" href=\"/tag/aliteracy/page/1/\">aliteracy</a>\n",
      "            \n",
      "            <a class=\"tag\" href=\"/tag/books/page/1/\">books</a>\n",
      "            \n",
      "            <a class=\"tag\" href=\"/tag/classic/page/1/\">classic</a>\n",
      "            \n",
      "            <a class=\"tag\" href=\"/tag/humor/page/1/\">humor</a>\n",
      "            \n",
      "        </div>\n",
      "    </div>\n",
      "\n",
      "    <div class=\"quote\" itemscope itemtype=\"http://schema.org/CreativeWork\">\n",
      "        <span class=\"text\" itemprop=\"text\">“Imperfection is beauty, madness is genius and it&#39;s better to be absolutely ridiculous than absolutely boring.”</span>\n",
      "        <span>by <small class=\"author\" itemprop=\"author\">Marilyn Monroe</small>\n",
      "        <a href=\"/author/Marilyn-Monroe\">(about)</a>\n",
      "        </span>\n",
      "        <div class=\"tags\">\n",
      "            Tags:\n",
      "            <meta class=\"keywords\" itemprop=\"keywords\" content=\"be-yourself,inspirational\" /    > \n",
      "            \n",
      "            <a class=\"tag\" href=\"/tag/be-yourself/page/1/\">be-yourself</a>\n",
      "            \n",
      "            <a class=\"tag\" href=\"/tag/inspirational/page/1/\">inspirational</a>\n",
      "            \n",
      "        </div>\n",
      "    </div>\n",
      "\n",
      "    <div class=\"quote\" itemscope itemtype=\"http://schema.org/CreativeWork\">\n",
      "        <span class=\"text\" itemprop=\"text\">“Try not to become a man of success. Rather become a man of value.”</span>\n",
      "        <span>by <small class=\"author\" itemprop=\"author\">Albert Einstein</small>\n",
      "        <a href=\"/author/Albert-Einstein\">(about)</a>\n",
      "        </span>\n",
      "        <div class=\"tags\">\n",
      "            Tags:\n",
      "            <meta class=\"keywords\" itemprop=\"keywords\" content=\"adulthood,success,value\" /    > \n",
      "            \n",
      "            <a class=\"tag\" href=\"/tag/adulthood/page/1/\">adulthood</a>\n",
      "            \n",
      "            <a class=\"tag\" href=\"/tag/success/page/1/\">success</a>\n",
      "            \n",
      "            <a class=\"tag\" href=\"/tag/value/page/1/\">value</a>\n",
      "            \n",
      "        </div>\n",
      "    </div>\n",
      "\n",
      "    <div class=\"quote\" itemscope itemtype=\"http://schema.org/CreativeWork\">\n",
      "        <span class=\"text\" itemprop=\"text\">“It is better to be hated for what you are than to be loved for what you are not.”</span>\n",
      "        <span>by <small class=\"author\" itemprop=\"author\">André Gide</small>\n",
      "        <a href=\"/author/Andre-Gide\">(about)</a>\n",
      "        </span>\n",
      "        <div class=\"tags\">\n",
      "            Tags:\n",
      "            <meta class=\"keywords\" itemprop=\"keywords\" content=\"life,love\" /    > \n",
      "            \n",
      "            <a class=\"tag\" href=\"/tag/life/page/1/\">life</a>\n",
      "            \n",
      "            <a class=\"tag\" href=\"/tag/love/page/1/\">love</a>\n",
      "            \n",
      "        </div>\n",
      "    </div>\n",
      "\n",
      "    <div class=\"quote\" itemscope itemtype=\"http://schema.org/CreativeWork\">\n",
      "        <span class=\"text\" itemprop=\"text\">“I have not failed. I&#39;ve just found 10,000 ways that won&#39;t work.”</span>\n",
      "        <span>by <small class=\"author\" itemprop=\"author\">Thomas A. Edison</small>\n",
      "        <a href=\"/author/Thomas-A-Edison\">(about)</a>\n",
      "        </span>\n",
      "        <div class=\"tags\">\n",
      "            Tags:\n",
      "            <meta class=\"keywords\" itemprop=\"keywords\" content=\"edison,failure,inspirational,paraphrased\" /    > \n",
      "            \n",
      "            <a class=\"tag\" href=\"/tag/edison/page/1/\">edison</a>\n",
      "            \n",
      "            <a class=\"tag\" href=\"/tag/failure/page/1/\">failure</a>\n",
      "            \n",
      "            <a class=\"tag\" href=\"/tag/inspirational/page/1/\">inspirational</a>\n",
      "            \n",
      "            <a class=\"tag\" href=\"/tag/paraphrased/page/1/\">paraphrased</a>\n",
      "            \n",
      "        </div>\n",
      "    </div>\n",
      "\n",
      "    <div class=\"quote\" itemscope itemtype=\"http://schema.org/CreativeWork\">\n",
      "        <span class=\"text\" itemprop=\"text\">“A woman is like a tea bag; you never know how strong it is until it&#39;s in hot water.”</span>\n",
      "        <span>by <small class=\"author\" itemprop=\"author\">Eleanor Roosevelt</small>\n",
      "        <a href=\"/author/Eleanor-Roosevelt\">(about)</a>\n",
      "        </span>\n",
      "        <div class=\"tags\">\n",
      "            Tags:\n",
      "            <meta class=\"keywords\" itemprop=\"keywords\" content=\"misattributed-eleanor-roosevelt\" /    > \n",
      "            \n",
      "            <a class=\"tag\" href=\"/tag/misattributed-eleanor-roosevelt/page/1/\">misattributed-eleanor-roosevelt</a>\n",
      "            \n",
      "        </div>\n",
      "    </div>\n",
      "\n",
      "    <div class=\"quote\" itemscope itemtype=\"http://schema.org/CreativeWork\">\n",
      "        <span class=\"text\" itemprop=\"text\">“A day without sunshine is like, you know, night.”</span>\n",
      "        <span>by <small class=\"author\" itemprop=\"author\">Steve Martin</small>\n",
      "        <a href=\"/author/Steve-Martin\">(about)</a>\n",
      "        </span>\n",
      "        <div class=\"tags\">\n",
      "            Tags:\n",
      "            <meta class=\"keywords\" itemprop=\"keywords\" content=\"humor,obvious,simile\" /    > \n",
      "            \n",
      "            <a class=\"tag\" href=\"/tag/humor/page/1/\">humor</a>\n",
      "            \n",
      "            <a class=\"tag\" href=\"/tag/obvious/page/1/\">obvious</a>\n",
      "            \n",
      "            <a class=\"tag\" href=\"/tag/simile/page/1/\">simile</a>\n",
      "            \n",
      "        </div>\n",
      "    </div>\n",
      "\n",
      "    <nav>\n",
      "        <ul class=\"pager\">\n",
      "            \n",
      "            \n",
      "            <li class=\"next\">\n",
      "                <a href=\"/page/2/\">Next <span aria-hidden=\"true\">&rarr;</span></a>\n",
      "            </li>\n",
      "            \n",
      "        </ul>\n",
      "    </nav>\n",
      "    </div>\n",
      "    <div class=\"col-md-4 tags-box\">\n",
      "        \n",
      "            <h2>Top Ten tags</h2>\n",
      "            \n",
      "            <span class=\"tag-item\">\n",
      "            <a class=\"tag\" style=\"font-size: 28px\" href=\"/tag/love/\">love</a>\n",
      "            </span>\n",
      "            \n",
      "            <span class=\"tag-item\">\n",
      "            <a class=\"tag\" style=\"font-size: 26px\" href=\"/tag/inspirational/\">inspirational</a>\n",
      "            </span>\n",
      "            \n",
      "            <span class=\"tag-item\">\n",
      "            <a class=\"tag\" style=\"font-size: 26px\" href=\"/tag/life/\">life</a>\n",
      "            </span>\n",
      "            \n",
      "            <span class=\"tag-item\">\n",
      "            <a class=\"tag\" style=\"font-size: 24px\" href=\"/tag/humor/\">humor</a>\n",
      "            </span>\n",
      "            \n",
      "            <span class=\"tag-item\">\n",
      "            <a class=\"tag\" style=\"font-size: 22px\" href=\"/tag/books/\">books</a>\n",
      "            </span>\n",
      "            \n",
      "            <span class=\"tag-item\">\n",
      "            <a class=\"tag\" style=\"font-size: 14px\" href=\"/tag/reading/\">reading</a>\n",
      "            </span>\n",
      "            \n",
      "            <span class=\"tag-item\">\n",
      "            <a class=\"tag\" style=\"font-size: 10px\" href=\"/tag/friendship/\">friendship</a>\n",
      "            </span>\n",
      "            \n",
      "            <span class=\"tag-item\">\n",
      "            <a class=\"tag\" style=\"font-size: 8px\" href=\"/tag/friends/\">friends</a>\n",
      "            </span>\n",
      "            \n",
      "            <span class=\"tag-item\">\n",
      "            <a class=\"tag\" style=\"font-size: 8px\" href=\"/tag/truth/\">truth</a>\n",
      "            </span>\n",
      "            \n",
      "            <span class=\"tag-item\">\n",
      "            <a class=\"tag\" style=\"font-size: 6px\" href=\"/tag/simile/\">simile</a>\n",
      "            </span>\n",
      "            \n",
      "        \n",
      "    </div>\n",
      "</div>\n",
      "\n",
      "    </div>\n",
      "    <footer class=\"footer\">\n",
      "        <div class=\"container\">\n",
      "            <p class=\"text-muted\">\n",
      "                Quotes by: <a href=\"https://www.goodreads.com/quotes\">GoodReads.com</a>\n",
      "            </p>\n",
      "            <p class=\"copyright\">\n",
      "                Made with <span class='sh-red'>❤</span> by <a href=\"https://scrapinghub.com\">Scrapinghub</a>\n",
      "            </p>\n",
      "        </div>\n",
      "    </footer>\n",
      "</body>\n",
      "</html>\n"
     ]
    }
   ],
   "source": [
    "html = res.text\n",
    "print(html)"
   ]
  },
  {
   "cell_type": "code",
   "execution_count": 5,
   "id": "3d8fc1d4",
   "metadata": {},
   "outputs": [],
   "source": [
    "fd = open('main.html','w', encoding=\"utf-8\")\n",
    "fd.write(html)\n",
    "fd.close()"
   ]
  },
  {
   "cell_type": "markdown",
   "id": "dd9025d7",
   "metadata": {},
   "source": [
    "### Scraping Quotes"
   ]
  },
  {
   "cell_type": "code",
   "execution_count": 6,
   "id": "6d723914",
   "metadata": {},
   "outputs": [],
   "source": [
    "from bs4 import BeautifulSoup\n",
    "import pandas as pd"
   ]
  },
  {
   "cell_type": "code",
   "execution_count": 7,
   "id": "e52d28b0",
   "metadata": {},
   "outputs": [],
   "source": [
    "soup = BeautifulSoup(res.text,'html.parser')"
   ]
  },
  {
   "cell_type": "code",
   "execution_count": 8,
   "id": "6f91cb0f",
   "metadata": {},
   "outputs": [
    {
     "name": "stdout",
     "output_type": "stream",
     "text": [
      "The world as we have created it is a process of our thinking. It cannot be changed without changing our thinking.\n"
     ]
    }
   ],
   "source": [
    "print(soup.find('span', class_='text').text[1:-1])"
   ]
  },
  {
   "cell_type": "code",
   "execution_count": 9,
   "id": "da878dd8",
   "metadata": {},
   "outputs": [],
   "source": [
    "quotes = []\n",
    "\n",
    "for quote in soup.find_all('span', class_ = 'text'):\n",
    "    quotes.append(quote.text[1:-1])"
   ]
  },
  {
   "cell_type": "code",
   "execution_count": 10,
   "id": "ec3ec965",
   "metadata": {},
   "outputs": [
    {
     "data": {
      "text/plain": [
       "['The world as we have created it is a process of our thinking. It cannot be changed without changing our thinking.',\n",
       " 'It is our choices, Harry, that show what we truly are, far more than our abilities.',\n",
       " 'There are only two ways to live your life. One is as though nothing is a miracle. The other is as though everything is a miracle.',\n",
       " 'The person, be it gentleman or lady, who has not pleasure in a good novel, must be intolerably stupid.',\n",
       " \"Imperfection is beauty, madness is genius and it's better to be absolutely ridiculous than absolutely boring.\",\n",
       " 'Try not to become a man of success. Rather become a man of value.',\n",
       " 'It is better to be hated for what you are than to be loved for what you are not.',\n",
       " \"I have not failed. I've just found 10,000 ways that won't work.\",\n",
       " \"A woman is like a tea bag; you never know how strong it is until it's in hot water.\",\n",
       " 'A day without sunshine is like, you know, night.']"
      ]
     },
     "execution_count": 10,
     "metadata": {},
     "output_type": "execute_result"
    }
   ],
   "source": [
    "quotes"
   ]
  },
  {
   "cell_type": "markdown",
   "id": "51817f09",
   "metadata": {},
   "source": [
    "### Scraping Quotes with Author Details"
   ]
  },
  {
   "cell_type": "code",
   "execution_count": 11,
   "id": "e0921982",
   "metadata": {},
   "outputs": [],
   "source": [
    "data = []\n",
    "\n",
    "for sp in soup.find_all('div', class_ = 'quote'):\n",
    "\n",
    "    quote     = sp.find('span', class_ = 'text').text[1:-1]\n",
    "    author    = sp.find('small').text\n",
    "    author_id = sp.find('a').get('href')\n",
    "    \n",
    "    tags = []\n",
    "    for tag in sp.find_all('a',class_ = 'tag'):\n",
    "        tags.append(tag.text)\n",
    "    tags      = ','.join(tags)\n",
    "\n",
    "    data.append([quote, author, author_id, tags])"
   ]
  },
  {
   "cell_type": "code",
   "execution_count": 12,
   "id": "aca36fad",
   "metadata": {},
   "outputs": [
    {
     "data": {
      "text/plain": [
       "['The world as we have created it is a process of our thinking. It cannot be changed without changing our thinking.',\n",
       " 'Albert Einstein',\n",
       " '/author/Albert-Einstein',\n",
       " 'change,deep-thoughts,thinking,world']"
      ]
     },
     "execution_count": 12,
     "metadata": {},
     "output_type": "execute_result"
    }
   ],
   "source": [
    "data[0]"
   ]
  },
  {
   "cell_type": "code",
   "execution_count": 13,
   "id": "b5342e20",
   "metadata": {},
   "outputs": [
    {
     "data": {
      "text/html": [
       "<div>\n",
       "<style scoped>\n",
       "    .dataframe tbody tr th:only-of-type {\n",
       "        vertical-align: middle;\n",
       "    }\n",
       "\n",
       "    .dataframe tbody tr th {\n",
       "        vertical-align: top;\n",
       "    }\n",
       "\n",
       "    .dataframe thead th {\n",
       "        text-align: right;\n",
       "    }\n",
       "</style>\n",
       "<table border=\"1\" class=\"dataframe\">\n",
       "  <thead>\n",
       "    <tr style=\"text-align: right;\">\n",
       "      <th></th>\n",
       "      <th>quote</th>\n",
       "      <th>author</th>\n",
       "      <th>author_id</th>\n",
       "      <th>tags</th>\n",
       "    </tr>\n",
       "  </thead>\n",
       "  <tbody>\n",
       "    <tr>\n",
       "      <th>0</th>\n",
       "      <td>The world as we have created it is a process o...</td>\n",
       "      <td>Albert Einstein</td>\n",
       "      <td>/author/Albert-Einstein</td>\n",
       "      <td>change,deep-thoughts,thinking,world</td>\n",
       "    </tr>\n",
       "    <tr>\n",
       "      <th>1</th>\n",
       "      <td>It is our choices, Harry, that show what we tr...</td>\n",
       "      <td>J.K. Rowling</td>\n",
       "      <td>/author/J-K-Rowling</td>\n",
       "      <td>abilities,choices</td>\n",
       "    </tr>\n",
       "    <tr>\n",
       "      <th>2</th>\n",
       "      <td>There are only two ways to live your life. One...</td>\n",
       "      <td>Albert Einstein</td>\n",
       "      <td>/author/Albert-Einstein</td>\n",
       "      <td>inspirational,life,live,miracle,miracles</td>\n",
       "    </tr>\n",
       "    <tr>\n",
       "      <th>3</th>\n",
       "      <td>The person, be it gentleman or lady, who has n...</td>\n",
       "      <td>Jane Austen</td>\n",
       "      <td>/author/Jane-Austen</td>\n",
       "      <td>aliteracy,books,classic,humor</td>\n",
       "    </tr>\n",
       "    <tr>\n",
       "      <th>4</th>\n",
       "      <td>Imperfection is beauty, madness is genius and ...</td>\n",
       "      <td>Marilyn Monroe</td>\n",
       "      <td>/author/Marilyn-Monroe</td>\n",
       "      <td>be-yourself,inspirational</td>\n",
       "    </tr>\n",
       "    <tr>\n",
       "      <th>5</th>\n",
       "      <td>Try not to become a man of success. Rather bec...</td>\n",
       "      <td>Albert Einstein</td>\n",
       "      <td>/author/Albert-Einstein</td>\n",
       "      <td>adulthood,success,value</td>\n",
       "    </tr>\n",
       "    <tr>\n",
       "      <th>6</th>\n",
       "      <td>It is better to be hated for what you are than...</td>\n",
       "      <td>André Gide</td>\n",
       "      <td>/author/Andre-Gide</td>\n",
       "      <td>life,love</td>\n",
       "    </tr>\n",
       "    <tr>\n",
       "      <th>7</th>\n",
       "      <td>I have not failed. I've just found 10,000 ways...</td>\n",
       "      <td>Thomas A. Edison</td>\n",
       "      <td>/author/Thomas-A-Edison</td>\n",
       "      <td>edison,failure,inspirational,paraphrased</td>\n",
       "    </tr>\n",
       "    <tr>\n",
       "      <th>8</th>\n",
       "      <td>A woman is like a tea bag; you never know how ...</td>\n",
       "      <td>Eleanor Roosevelt</td>\n",
       "      <td>/author/Eleanor-Roosevelt</td>\n",
       "      <td>misattributed-eleanor-roosevelt</td>\n",
       "    </tr>\n",
       "    <tr>\n",
       "      <th>9</th>\n",
       "      <td>A day without sunshine is like, you know, night.</td>\n",
       "      <td>Steve Martin</td>\n",
       "      <td>/author/Steve-Martin</td>\n",
       "      <td>humor,obvious,simile</td>\n",
       "    </tr>\n",
       "  </tbody>\n",
       "</table>\n",
       "</div>"
      ],
      "text/plain": [
       "                                               quote             author  \\\n",
       "0  The world as we have created it is a process o...    Albert Einstein   \n",
       "1  It is our choices, Harry, that show what we tr...       J.K. Rowling   \n",
       "2  There are only two ways to live your life. One...    Albert Einstein   \n",
       "3  The person, be it gentleman or lady, who has n...        Jane Austen   \n",
       "4  Imperfection is beauty, madness is genius and ...     Marilyn Monroe   \n",
       "5  Try not to become a man of success. Rather bec...    Albert Einstein   \n",
       "6  It is better to be hated for what you are than...         André Gide   \n",
       "7  I have not failed. I've just found 10,000 ways...   Thomas A. Edison   \n",
       "8  A woman is like a tea bag; you never know how ...  Eleanor Roosevelt   \n",
       "9   A day without sunshine is like, you know, night.       Steve Martin   \n",
       "\n",
       "                   author_id                                      tags  \n",
       "0    /author/Albert-Einstein       change,deep-thoughts,thinking,world  \n",
       "1        /author/J-K-Rowling                         abilities,choices  \n",
       "2    /author/Albert-Einstein  inspirational,life,live,miracle,miracles  \n",
       "3        /author/Jane-Austen             aliteracy,books,classic,humor  \n",
       "4     /author/Marilyn-Monroe                 be-yourself,inspirational  \n",
       "5    /author/Albert-Einstein                   adulthood,success,value  \n",
       "6         /author/Andre-Gide                                 life,love  \n",
       "7    /author/Thomas-A-Edison  edison,failure,inspirational,paraphrased  \n",
       "8  /author/Eleanor-Roosevelt           misattributed-eleanor-roosevelt  \n",
       "9       /author/Steve-Martin                      humor,obvious,simile  "
      ]
     },
     "execution_count": 13,
     "metadata": {},
     "output_type": "execute_result"
    }
   ],
   "source": [
    "df = pd.DataFrame(data, columns = ['quote','author','author_id','tags'])\n",
    "df"
   ]
  },
  {
   "cell_type": "code",
   "execution_count": 14,
   "id": "2c98d873",
   "metadata": {},
   "outputs": [],
   "source": [
    "df.to_csv('Quotes.csv', index = False)"
   ]
  },
  {
   "cell_type": "code",
   "execution_count": 15,
   "id": "ebd0a415",
   "metadata": {},
   "outputs": [
    {
     "data": {
      "text/plain": [
       "'/author/Albert-Einstein'"
      ]
     },
     "execution_count": 15,
     "metadata": {},
     "output_type": "execute_result"
    }
   ],
   "source": [
    "df['author_id'][0]"
   ]
  },
  {
   "cell_type": "code",
   "execution_count": 16,
   "id": "56ee5de5",
   "metadata": {},
   "outputs": [],
   "source": [
    "link = []\n",
    "for i in range(10):\n",
    "    link.append(\"https://quotes.toscrape.com\" + df['author_id'][i])\n",
    "    \n",
    "df['author_link']=link"
   ]
  },
  {
   "cell_type": "code",
   "execution_count": 17,
   "id": "d4889973",
   "metadata": {},
   "outputs": [],
   "source": [
    "df.to_csv('Quotes.csv', index = False)"
   ]
  },
  {
   "cell_type": "markdown",
   "id": "13629ed6",
   "metadata": {},
   "source": [
    "### Scraping Author Info"
   ]
  },
  {
   "cell_type": "code",
   "execution_count": 18,
   "id": "bd3ac1d3",
   "metadata": {},
   "outputs": [
    {
     "data": {
      "text/html": [
       "<div>\n",
       "<style scoped>\n",
       "    .dataframe tbody tr th:only-of-type {\n",
       "        vertical-align: middle;\n",
       "    }\n",
       "\n",
       "    .dataframe tbody tr th {\n",
       "        vertical-align: top;\n",
       "    }\n",
       "\n",
       "    .dataframe thead th {\n",
       "        text-align: right;\n",
       "    }\n",
       "</style>\n",
       "<table border=\"1\" class=\"dataframe\">\n",
       "  <thead>\n",
       "    <tr style=\"text-align: right;\">\n",
       "      <th></th>\n",
       "      <th>quote</th>\n",
       "      <th>author</th>\n",
       "      <th>author_id</th>\n",
       "      <th>tags</th>\n",
       "      <th>author_link</th>\n",
       "    </tr>\n",
       "  </thead>\n",
       "  <tbody>\n",
       "    <tr>\n",
       "      <th>0</th>\n",
       "      <td>The world as we have created it is a process o...</td>\n",
       "      <td>Albert Einstein</td>\n",
       "      <td>/author/Albert-Einstein</td>\n",
       "      <td>change,deep-thoughts,thinking,world</td>\n",
       "      <td>https://quotes.toscrape.com/author/Albert-Eins...</td>\n",
       "    </tr>\n",
       "    <tr>\n",
       "      <th>1</th>\n",
       "      <td>It is our choices, Harry, that show what we tr...</td>\n",
       "      <td>J.K. Rowling</td>\n",
       "      <td>/author/J-K-Rowling</td>\n",
       "      <td>abilities,choices</td>\n",
       "      <td>https://quotes.toscrape.com/author/J-K-Rowling</td>\n",
       "    </tr>\n",
       "    <tr>\n",
       "      <th>2</th>\n",
       "      <td>There are only two ways to live your life. One...</td>\n",
       "      <td>Albert Einstein</td>\n",
       "      <td>/author/Albert-Einstein</td>\n",
       "      <td>inspirational,life,live,miracle,miracles</td>\n",
       "      <td>https://quotes.toscrape.com/author/Albert-Eins...</td>\n",
       "    </tr>\n",
       "    <tr>\n",
       "      <th>3</th>\n",
       "      <td>The person, be it gentleman or lady, who has n...</td>\n",
       "      <td>Jane Austen</td>\n",
       "      <td>/author/Jane-Austen</td>\n",
       "      <td>aliteracy,books,classic,humor</td>\n",
       "      <td>https://quotes.toscrape.com/author/Jane-Austen</td>\n",
       "    </tr>\n",
       "    <tr>\n",
       "      <th>4</th>\n",
       "      <td>Imperfection is beauty, madness is genius and ...</td>\n",
       "      <td>Marilyn Monroe</td>\n",
       "      <td>/author/Marilyn-Monroe</td>\n",
       "      <td>be-yourself,inspirational</td>\n",
       "      <td>https://quotes.toscrape.com/author/Marilyn-Monroe</td>\n",
       "    </tr>\n",
       "    <tr>\n",
       "      <th>5</th>\n",
       "      <td>Try not to become a man of success. Rather bec...</td>\n",
       "      <td>Albert Einstein</td>\n",
       "      <td>/author/Albert-Einstein</td>\n",
       "      <td>adulthood,success,value</td>\n",
       "      <td>https://quotes.toscrape.com/author/Albert-Eins...</td>\n",
       "    </tr>\n",
       "    <tr>\n",
       "      <th>6</th>\n",
       "      <td>It is better to be hated for what you are than...</td>\n",
       "      <td>André Gide</td>\n",
       "      <td>/author/Andre-Gide</td>\n",
       "      <td>life,love</td>\n",
       "      <td>https://quotes.toscrape.com/author/Andre-Gide</td>\n",
       "    </tr>\n",
       "    <tr>\n",
       "      <th>7</th>\n",
       "      <td>I have not failed. I've just found 10,000 ways...</td>\n",
       "      <td>Thomas A. Edison</td>\n",
       "      <td>/author/Thomas-A-Edison</td>\n",
       "      <td>edison,failure,inspirational,paraphrased</td>\n",
       "      <td>https://quotes.toscrape.com/author/Thomas-A-Ed...</td>\n",
       "    </tr>\n",
       "    <tr>\n",
       "      <th>8</th>\n",
       "      <td>A woman is like a tea bag; you never know how ...</td>\n",
       "      <td>Eleanor Roosevelt</td>\n",
       "      <td>/author/Eleanor-Roosevelt</td>\n",
       "      <td>misattributed-eleanor-roosevelt</td>\n",
       "      <td>https://quotes.toscrape.com/author/Eleanor-Roo...</td>\n",
       "    </tr>\n",
       "    <tr>\n",
       "      <th>9</th>\n",
       "      <td>A day without sunshine is like, you know, night.</td>\n",
       "      <td>Steve Martin</td>\n",
       "      <td>/author/Steve-Martin</td>\n",
       "      <td>humor,obvious,simile</td>\n",
       "      <td>https://quotes.toscrape.com/author/Steve-Martin</td>\n",
       "    </tr>\n",
       "  </tbody>\n",
       "</table>\n",
       "</div>"
      ],
      "text/plain": [
       "                                               quote             author  \\\n",
       "0  The world as we have created it is a process o...    Albert Einstein   \n",
       "1  It is our choices, Harry, that show what we tr...       J.K. Rowling   \n",
       "2  There are only two ways to live your life. One...    Albert Einstein   \n",
       "3  The person, be it gentleman or lady, who has n...        Jane Austen   \n",
       "4  Imperfection is beauty, madness is genius and ...     Marilyn Monroe   \n",
       "5  Try not to become a man of success. Rather bec...    Albert Einstein   \n",
       "6  It is better to be hated for what you are than...         André Gide   \n",
       "7  I have not failed. I've just found 10,000 ways...   Thomas A. Edison   \n",
       "8  A woman is like a tea bag; you never know how ...  Eleanor Roosevelt   \n",
       "9   A day without sunshine is like, you know, night.       Steve Martin   \n",
       "\n",
       "                   author_id                                      tags  \\\n",
       "0    /author/Albert-Einstein       change,deep-thoughts,thinking,world   \n",
       "1        /author/J-K-Rowling                         abilities,choices   \n",
       "2    /author/Albert-Einstein  inspirational,life,live,miracle,miracles   \n",
       "3        /author/Jane-Austen             aliteracy,books,classic,humor   \n",
       "4     /author/Marilyn-Monroe                 be-yourself,inspirational   \n",
       "5    /author/Albert-Einstein                   adulthood,success,value   \n",
       "6         /author/Andre-Gide                                 life,love   \n",
       "7    /author/Thomas-A-Edison  edison,failure,inspirational,paraphrased   \n",
       "8  /author/Eleanor-Roosevelt           misattributed-eleanor-roosevelt   \n",
       "9       /author/Steve-Martin                      humor,obvious,simile   \n",
       "\n",
       "                                         author_link  \n",
       "0  https://quotes.toscrape.com/author/Albert-Eins...  \n",
       "1     https://quotes.toscrape.com/author/J-K-Rowling  \n",
       "2  https://quotes.toscrape.com/author/Albert-Eins...  \n",
       "3     https://quotes.toscrape.com/author/Jane-Austen  \n",
       "4  https://quotes.toscrape.com/author/Marilyn-Monroe  \n",
       "5  https://quotes.toscrape.com/author/Albert-Eins...  \n",
       "6      https://quotes.toscrape.com/author/Andre-Gide  \n",
       "7  https://quotes.toscrape.com/author/Thomas-A-Ed...  \n",
       "8  https://quotes.toscrape.com/author/Eleanor-Roo...  \n",
       "9    https://quotes.toscrape.com/author/Steve-Martin  "
      ]
     },
     "execution_count": 18,
     "metadata": {},
     "output_type": "execute_result"
    }
   ],
   "source": [
    "df = pd.read_csv('Quotes.csv')\n",
    "df"
   ]
  },
  {
   "cell_type": "code",
   "execution_count": 19,
   "id": "c0fc48a1",
   "metadata": {},
   "outputs": [],
   "source": [
    "del df['quote']\n",
    "del df['author_id']\n",
    "del df['tags']"
   ]
  },
  {
   "cell_type": "code",
   "execution_count": 20,
   "id": "12e16a74",
   "metadata": {},
   "outputs": [],
   "source": [
    "df = df.drop_duplicates()"
   ]
  },
  {
   "cell_type": "code",
   "execution_count": 21,
   "id": "350c913f",
   "metadata": {},
   "outputs": [
    {
     "data": {
      "text/plain": [
       "array([['Albert Einstein',\n",
       "        'https://quotes.toscrape.com/author/Albert-Einstein'],\n",
       "       ['J.K. Rowling', 'https://quotes.toscrape.com/author/J-K-Rowling'],\n",
       "       ['Jane Austen', 'https://quotes.toscrape.com/author/Jane-Austen'],\n",
       "       ['Marilyn Monroe',\n",
       "        'https://quotes.toscrape.com/author/Marilyn-Monroe'],\n",
       "       ['André Gide', 'https://quotes.toscrape.com/author/Andre-Gide'],\n",
       "       ['Thomas A. Edison',\n",
       "        'https://quotes.toscrape.com/author/Thomas-A-Edison'],\n",
       "       ['Eleanor Roosevelt',\n",
       "        'https://quotes.toscrape.com/author/Eleanor-Roosevelt'],\n",
       "       ['Steve Martin',\n",
       "        'https://quotes.toscrape.com/author/Steve-Martin']], dtype=object)"
      ]
     },
     "execution_count": 21,
     "metadata": {},
     "output_type": "execute_result"
    }
   ],
   "source": [
    "from tqdm import tqdm\n",
    "df.values"
   ]
  },
  {
   "cell_type": "code",
   "execution_count": 22,
   "id": "e01054ff",
   "metadata": {},
   "outputs": [
    {
     "name": "stderr",
     "output_type": "stream",
     "text": [
      "100%|██████████████████████████████████| 8/8 [00:14<00:00,  1.75s/it]\n"
     ]
    }
   ],
   "source": [
    "author_info = []\n",
    "paths = []\n",
    "\n",
    "for author in tqdm(df.values):\n",
    "    name = 'Authors/' + author[0] + '.txt'\n",
    "    link = author[1]\n",
    "    \n",
    "    res = requests.get(link)\n",
    "    soup = BeautifulSoup(res.text,'html.parser')\n",
    "    \n",
    "    text = soup.find('div',class_ = 'author-details').text\n",
    "    \n",
    "    author_info.append(text.strip())\n",
    "    paths.append(name)\n",
    "\n",
    "    fd = open(name,'w', encoding=\"utf-8\")\n",
    "    fd.write(text)\n",
    "    fd.close()"
   ]
  },
  {
   "cell_type": "code",
   "execution_count": 23,
   "id": "3c218d8d",
   "metadata": {},
   "outputs": [
    {
     "data": {
      "text/plain": [
       "['Authors/Albert Einstein.txt',\n",
       " 'Authors/J.K. Rowling.txt',\n",
       " 'Authors/Jane Austen.txt',\n",
       " 'Authors/Marilyn Monroe.txt',\n",
       " 'Authors/André Gide.txt',\n",
       " 'Authors/Thomas A. Edison.txt',\n",
       " 'Authors/Eleanor Roosevelt.txt',\n",
       " 'Authors/Steve Martin.txt']"
      ]
     },
     "execution_count": 23,
     "metadata": {},
     "output_type": "execute_result"
    }
   ],
   "source": [
    "author_info\n",
    "paths"
   ]
  },
  {
   "cell_type": "code",
   "execution_count": 24,
   "id": "fda773d1",
   "metadata": {},
   "outputs": [
    {
     "name": "stderr",
     "output_type": "stream",
     "text": [
      "C:\\Users\\Pawan\\AppData\\Local\\Temp\\ipykernel_14732\\2522570885.py:1: SettingWithCopyWarning: \n",
      "A value is trying to be set on a copy of a slice from a DataFrame.\n",
      "Try using .loc[row_indexer,col_indexer] = value instead\n",
      "\n",
      "See the caveats in the documentation: https://pandas.pydata.org/pandas-docs/stable/user_guide/indexing.html#returning-a-view-versus-a-copy\n",
      "  df['author_info'] = author_info\n",
      "C:\\Users\\Pawan\\AppData\\Local\\Temp\\ipykernel_14732\\2522570885.py:2: SettingWithCopyWarning: \n",
      "A value is trying to be set on a copy of a slice from a DataFrame.\n",
      "Try using .loc[row_indexer,col_indexer] = value instead\n",
      "\n",
      "See the caveats in the documentation: https://pandas.pydata.org/pandas-docs/stable/user_guide/indexing.html#returning-a-view-versus-a-copy\n",
      "  df['paths'] = paths\n"
     ]
    }
   ],
   "source": [
    "df['author_info'] = author_info\n",
    "df['paths'] = paths"
   ]
  },
  {
   "cell_type": "code",
   "execution_count": 25,
   "id": "9e0c2ffe",
   "metadata": {},
   "outputs": [
    {
     "data": {
      "text/html": [
       "<div>\n",
       "<style scoped>\n",
       "    .dataframe tbody tr th:only-of-type {\n",
       "        vertical-align: middle;\n",
       "    }\n",
       "\n",
       "    .dataframe tbody tr th {\n",
       "        vertical-align: top;\n",
       "    }\n",
       "\n",
       "    .dataframe thead th {\n",
       "        text-align: right;\n",
       "    }\n",
       "</style>\n",
       "<table border=\"1\" class=\"dataframe\">\n",
       "  <thead>\n",
       "    <tr style=\"text-align: right;\">\n",
       "      <th></th>\n",
       "      <th>author</th>\n",
       "      <th>author_link</th>\n",
       "      <th>author_info</th>\n",
       "      <th>paths</th>\n",
       "    </tr>\n",
       "  </thead>\n",
       "  <tbody>\n",
       "    <tr>\n",
       "      <th>0</th>\n",
       "      <td>Albert Einstein</td>\n",
       "      <td>https://quotes.toscrape.com/author/Albert-Eins...</td>\n",
       "      <td>Albert Einstein\\nBorn: March 14, 1879 in Ulm, ...</td>\n",
       "      <td>Authors/Albert Einstein.txt</td>\n",
       "    </tr>\n",
       "    <tr>\n",
       "      <th>1</th>\n",
       "      <td>J.K. Rowling</td>\n",
       "      <td>https://quotes.toscrape.com/author/J-K-Rowling</td>\n",
       "      <td>J.K. Rowling\\nBorn: July 31, 1965 in Yate, Sou...</td>\n",
       "      <td>Authors/J.K. Rowling.txt</td>\n",
       "    </tr>\n",
       "    <tr>\n",
       "      <th>3</th>\n",
       "      <td>Jane Austen</td>\n",
       "      <td>https://quotes.toscrape.com/author/Jane-Austen</td>\n",
       "      <td>Jane Austen\\nBorn: December 16, 1775 in Steven...</td>\n",
       "      <td>Authors/Jane Austen.txt</td>\n",
       "    </tr>\n",
       "    <tr>\n",
       "      <th>4</th>\n",
       "      <td>Marilyn Monroe</td>\n",
       "      <td>https://quotes.toscrape.com/author/Marilyn-Monroe</td>\n",
       "      <td>Marilyn Monroe\\nBorn: June 01, 1926 in The Uni...</td>\n",
       "      <td>Authors/Marilyn Monroe.txt</td>\n",
       "    </tr>\n",
       "    <tr>\n",
       "      <th>6</th>\n",
       "      <td>André Gide</td>\n",
       "      <td>https://quotes.toscrape.com/author/Andre-Gide</td>\n",
       "      <td>André Gide\\nBorn: November 22, 1869 in Paris, ...</td>\n",
       "      <td>Authors/André Gide.txt</td>\n",
       "    </tr>\n",
       "  </tbody>\n",
       "</table>\n",
       "</div>"
      ],
      "text/plain": [
       "            author                                        author_link  \\\n",
       "0  Albert Einstein  https://quotes.toscrape.com/author/Albert-Eins...   \n",
       "1     J.K. Rowling     https://quotes.toscrape.com/author/J-K-Rowling   \n",
       "3      Jane Austen     https://quotes.toscrape.com/author/Jane-Austen   \n",
       "4   Marilyn Monroe  https://quotes.toscrape.com/author/Marilyn-Monroe   \n",
       "6       André Gide      https://quotes.toscrape.com/author/Andre-Gide   \n",
       "\n",
       "                                         author_info  \\\n",
       "0  Albert Einstein\\nBorn: March 14, 1879 in Ulm, ...   \n",
       "1  J.K. Rowling\\nBorn: July 31, 1965 in Yate, Sou...   \n",
       "3  Jane Austen\\nBorn: December 16, 1775 in Steven...   \n",
       "4  Marilyn Monroe\\nBorn: June 01, 1926 in The Uni...   \n",
       "6  André Gide\\nBorn: November 22, 1869 in Paris, ...   \n",
       "\n",
       "                         paths  \n",
       "0  Authors/Albert Einstein.txt  \n",
       "1     Authors/J.K. Rowling.txt  \n",
       "3      Authors/Jane Austen.txt  \n",
       "4   Authors/Marilyn Monroe.txt  \n",
       "6       Authors/André Gide.txt  "
      ]
     },
     "execution_count": 25,
     "metadata": {},
     "output_type": "execute_result"
    }
   ],
   "source": [
    "df.head()"
   ]
  },
  {
   "cell_type": "code",
   "execution_count": 26,
   "id": "923e59da",
   "metadata": {},
   "outputs": [],
   "source": [
    "df.to_csv('Authors.csv', index = False)"
   ]
  },
  {
   "cell_type": "markdown",
   "id": "0165cb5a",
   "metadata": {},
   "source": [
    "### Scraping Quotes from Multiple Pages"
   ]
  },
  {
   "cell_type": "code",
   "execution_count": 27,
   "id": "00deb5a4",
   "metadata": {},
   "outputs": [
    {
     "name": "stderr",
     "output_type": "stream",
     "text": [
      "100%|████████████████████████████████| 10/10 [00:18<00:00,  1.87s/it]\n"
     ]
    }
   ],
   "source": [
    "data = []\n",
    "\n",
    "for page in tqdm(range(1,11)):\n",
    "    \n",
    "    link = 'https://quotes.toscrape.com/page/' + str(page)\n",
    "    res  = requests.get(link)\n",
    "    soup = BeautifulSoup(res.text, 'html.parser')\n",
    "    \n",
    "    for sp in soup.find_all('div', class_ = 'quote'):\n",
    "\n",
    "        quote     = sp.find('span', class_ = 'text').text[1:-1]\n",
    "        author    = sp.find('small').text\n",
    "        author_id = sp.find('a').get('href')\n",
    "\n",
    "        tags = []\n",
    "        for tag in sp.find_all('a',class_ = 'tag'):\n",
    "            tags.append(tag.text)\n",
    "        tags      = ','.join(tags)\n",
    "\n",
    "        data.append([quote, author, author_id, tags])"
   ]
  },
  {
   "cell_type": "code",
   "execution_count": 28,
   "id": "16e7d06f",
   "metadata": {},
   "outputs": [
    {
     "data": {
      "text/html": [
       "<div>\n",
       "<style scoped>\n",
       "    .dataframe tbody tr th:only-of-type {\n",
       "        vertical-align: middle;\n",
       "    }\n",
       "\n",
       "    .dataframe tbody tr th {\n",
       "        vertical-align: top;\n",
       "    }\n",
       "\n",
       "    .dataframe thead th {\n",
       "        text-align: right;\n",
       "    }\n",
       "</style>\n",
       "<table border=\"1\" class=\"dataframe\">\n",
       "  <thead>\n",
       "    <tr style=\"text-align: right;\">\n",
       "      <th></th>\n",
       "      <th>quote</th>\n",
       "      <th>author</th>\n",
       "      <th>author_id</th>\n",
       "      <th>tags</th>\n",
       "    </tr>\n",
       "  </thead>\n",
       "  <tbody>\n",
       "    <tr>\n",
       "      <th>0</th>\n",
       "      <td>The world as we have created it is a process o...</td>\n",
       "      <td>Albert Einstein</td>\n",
       "      <td>/author/Albert-Einstein</td>\n",
       "      <td>change,deep-thoughts,thinking,world</td>\n",
       "    </tr>\n",
       "    <tr>\n",
       "      <th>1</th>\n",
       "      <td>It is our choices, Harry, that show what we tr...</td>\n",
       "      <td>J.K. Rowling</td>\n",
       "      <td>/author/J-K-Rowling</td>\n",
       "      <td>abilities,choices</td>\n",
       "    </tr>\n",
       "    <tr>\n",
       "      <th>2</th>\n",
       "      <td>There are only two ways to live your life. One...</td>\n",
       "      <td>Albert Einstein</td>\n",
       "      <td>/author/Albert-Einstein</td>\n",
       "      <td>inspirational,life,live,miracle,miracles</td>\n",
       "    </tr>\n",
       "    <tr>\n",
       "      <th>3</th>\n",
       "      <td>The person, be it gentleman or lady, who has n...</td>\n",
       "      <td>Jane Austen</td>\n",
       "      <td>/author/Jane-Austen</td>\n",
       "      <td>aliteracy,books,classic,humor</td>\n",
       "    </tr>\n",
       "    <tr>\n",
       "      <th>4</th>\n",
       "      <td>Imperfection is beauty, madness is genius and ...</td>\n",
       "      <td>Marilyn Monroe</td>\n",
       "      <td>/author/Marilyn-Monroe</td>\n",
       "      <td>be-yourself,inspirational</td>\n",
       "    </tr>\n",
       "  </tbody>\n",
       "</table>\n",
       "</div>"
      ],
      "text/plain": [
       "                                               quote           author  \\\n",
       "0  The world as we have created it is a process o...  Albert Einstein   \n",
       "1  It is our choices, Harry, that show what we tr...     J.K. Rowling   \n",
       "2  There are only two ways to live your life. One...  Albert Einstein   \n",
       "3  The person, be it gentleman or lady, who has n...      Jane Austen   \n",
       "4  Imperfection is beauty, madness is genius and ...   Marilyn Monroe   \n",
       "\n",
       "                 author_id                                      tags  \n",
       "0  /author/Albert-Einstein       change,deep-thoughts,thinking,world  \n",
       "1      /author/J-K-Rowling                         abilities,choices  \n",
       "2  /author/Albert-Einstein  inspirational,life,live,miracle,miracles  \n",
       "3      /author/Jane-Austen             aliteracy,books,classic,humor  \n",
       "4   /author/Marilyn-Monroe                 be-yourself,inspirational  "
      ]
     },
     "execution_count": 28,
     "metadata": {},
     "output_type": "execute_result"
    }
   ],
   "source": [
    "df = pd.DataFrame(data, columns = ['quote','author','author_id','tags'])\n",
    "df.head()"
   ]
  },
  {
   "cell_type": "code",
   "execution_count": 29,
   "id": "8bd80e1b",
   "metadata": {},
   "outputs": [
    {
     "data": {
      "text/html": [
       "<div>\n",
       "<style scoped>\n",
       "    .dataframe tbody tr th:only-of-type {\n",
       "        vertical-align: middle;\n",
       "    }\n",
       "\n",
       "    .dataframe tbody tr th {\n",
       "        vertical-align: top;\n",
       "    }\n",
       "\n",
       "    .dataframe thead th {\n",
       "        text-align: right;\n",
       "    }\n",
       "</style>\n",
       "<table border=\"1\" class=\"dataframe\">\n",
       "  <thead>\n",
       "    <tr style=\"text-align: right;\">\n",
       "      <th></th>\n",
       "      <th>quote</th>\n",
       "      <th>author</th>\n",
       "      <th>author_id</th>\n",
       "      <th>tags</th>\n",
       "      <th>author_link</th>\n",
       "    </tr>\n",
       "  </thead>\n",
       "  <tbody>\n",
       "    <tr>\n",
       "      <th>0</th>\n",
       "      <td>The world as we have created it is a process o...</td>\n",
       "      <td>Albert Einstein</td>\n",
       "      <td>/author/Albert-Einstein</td>\n",
       "      <td>change,deep-thoughts,thinking,world</td>\n",
       "      <td>https://quotes.toscrape.com/author/Albert-Eins...</td>\n",
       "    </tr>\n",
       "    <tr>\n",
       "      <th>1</th>\n",
       "      <td>It is our choices, Harry, that show what we tr...</td>\n",
       "      <td>J.K. Rowling</td>\n",
       "      <td>/author/J-K-Rowling</td>\n",
       "      <td>abilities,choices</td>\n",
       "      <td>https://quotes.toscrape.com/author/J-K-Rowling</td>\n",
       "    </tr>\n",
       "    <tr>\n",
       "      <th>2</th>\n",
       "      <td>There are only two ways to live your life. One...</td>\n",
       "      <td>Albert Einstein</td>\n",
       "      <td>/author/Albert-Einstein</td>\n",
       "      <td>inspirational,life,live,miracle,miracles</td>\n",
       "      <td>https://quotes.toscrape.com/author/Albert-Eins...</td>\n",
       "    </tr>\n",
       "    <tr>\n",
       "      <th>3</th>\n",
       "      <td>The person, be it gentleman or lady, who has n...</td>\n",
       "      <td>Jane Austen</td>\n",
       "      <td>/author/Jane-Austen</td>\n",
       "      <td>aliteracy,books,classic,humor</td>\n",
       "      <td>https://quotes.toscrape.com/author/Jane-Austen</td>\n",
       "    </tr>\n",
       "    <tr>\n",
       "      <th>4</th>\n",
       "      <td>Imperfection is beauty, madness is genius and ...</td>\n",
       "      <td>Marilyn Monroe</td>\n",
       "      <td>/author/Marilyn-Monroe</td>\n",
       "      <td>be-yourself,inspirational</td>\n",
       "      <td>https://quotes.toscrape.com/author/Marilyn-Monroe</td>\n",
       "    </tr>\n",
       "  </tbody>\n",
       "</table>\n",
       "</div>"
      ],
      "text/plain": [
       "                                               quote           author  \\\n",
       "0  The world as we have created it is a process o...  Albert Einstein   \n",
       "1  It is our choices, Harry, that show what we tr...     J.K. Rowling   \n",
       "2  There are only two ways to live your life. One...  Albert Einstein   \n",
       "3  The person, be it gentleman or lady, who has n...      Jane Austen   \n",
       "4  Imperfection is beauty, madness is genius and ...   Marilyn Monroe   \n",
       "\n",
       "                 author_id                                      tags  \\\n",
       "0  /author/Albert-Einstein       change,deep-thoughts,thinking,world   \n",
       "1      /author/J-K-Rowling                         abilities,choices   \n",
       "2  /author/Albert-Einstein  inspirational,life,live,miracle,miracles   \n",
       "3      /author/Jane-Austen             aliteracy,books,classic,humor   \n",
       "4   /author/Marilyn-Monroe                 be-yourself,inspirational   \n",
       "\n",
       "                                         author_link  \n",
       "0  https://quotes.toscrape.com/author/Albert-Eins...  \n",
       "1     https://quotes.toscrape.com/author/J-K-Rowling  \n",
       "2  https://quotes.toscrape.com/author/Albert-Eins...  \n",
       "3     https://quotes.toscrape.com/author/Jane-Austen  \n",
       "4  https://quotes.toscrape.com/author/Marilyn-Monroe  "
      ]
     },
     "execution_count": 29,
     "metadata": {},
     "output_type": "execute_result"
    }
   ],
   "source": [
    "df['author_link'] = 'https://quotes.toscrape.com' + df['author_id']\n",
    "df.head()"
   ]
  },
  {
   "cell_type": "code",
   "execution_count": 30,
   "id": "62959398",
   "metadata": {},
   "outputs": [],
   "source": [
    "df.to_csv('Quotes.csv', index = False)"
   ]
  },
  {
   "cell_type": "code",
   "execution_count": 31,
   "id": "83708f64",
   "metadata": {},
   "outputs": [
    {
     "data": {
      "text/plain": [
       "'https://quotes.toscrape.com/author/Albert-Einstein'"
      ]
     },
     "execution_count": 31,
     "metadata": {},
     "output_type": "execute_result"
    }
   ],
   "source": [
    "df['author_link'][0]"
   ]
  },
  {
   "cell_type": "markdown",
   "id": "f0a2f5e8",
   "metadata": {},
   "source": [
    "# Quiz"
   ]
  },
  {
   "cell_type": "code",
   "execution_count": 32,
   "id": "4e72bc5e",
   "metadata": {},
   "outputs": [
    {
     "name": "stdout",
     "output_type": "stream",
     "text": [
      "None\n"
     ]
    }
   ],
   "source": [
    "print(soup.find('style'))"
   ]
  },
  {
   "cell_type": "code",
   "execution_count": 33,
   "id": "6167161b",
   "metadata": {},
   "outputs": [],
   "source": [
    "link = 'http://quotes.toscrape.com/'\n",
    "\n",
    "res = requests.get(link)\n",
    "soup = BeautifulSoup(res.text,'html.parser')\n",
    "#print(soup.find())"
   ]
  },
  {
   "cell_type": "code",
   "execution_count": 34,
   "id": "a1afee48",
   "metadata": {},
   "outputs": [
    {
     "data": {
      "text/plain": [
       "'The world as we have created it is a process of our thinking. It cannot be changed without changing our thinking.'"
      ]
     },
     "execution_count": 34,
     "metadata": {},
     "output_type": "execute_result"
    }
   ],
   "source": [
    "soup.find('span', class_ = 'text').text[1:-1]"
   ]
  },
  {
   "cell_type": "code",
   "execution_count": 35,
   "id": "81f30160",
   "metadata": {},
   "outputs": [
    {
     "data": {
      "text/plain": [
       "'The world as we have created it is a process of our thinking. It cannot be changed without changing our thinking.'"
      ]
     },
     "execution_count": 35,
     "metadata": {},
     "output_type": "execute_result"
    }
   ],
   "source": [
    "soup.find('span', class_ = 'text').text[1:-1:1]"
   ]
  },
  {
   "cell_type": "code",
   "execution_count": 36,
   "id": "a35077be",
   "metadata": {},
   "outputs": [
    {
     "data": {
      "text/plain": [
       "'Tewrda ehv rae ti  rcs fortikn.I antb hne ihu hnigortikn.'"
      ]
     },
     "execution_count": 36,
     "metadata": {},
     "output_type": "execute_result"
    }
   ],
   "source": [
    "soup.find('span', class_ = 'text').text[1:-1:2]"
   ]
  },
  {
   "cell_type": "code",
   "execution_count": 37,
   "id": "736a0bce",
   "metadata": {},
   "outputs": [
    {
     "data": {
      "text/plain": [
       "True"
      ]
     },
     "execution_count": 37,
     "metadata": {},
     "output_type": "execute_result"
    }
   ],
   "source": [
    "len(soup.find_all('div', class_ = 'quote')) == len(soup.find_all('span', class_ = 'text'))"
   ]
  },
  {
   "cell_type": "code",
   "execution_count": 38,
   "id": "1cc99a4f",
   "metadata": {},
   "outputs": [
    {
     "name": "stdout",
     "output_type": "stream",
     "text": [
      "['Albert Einstein', 'J.K. Rowling', 'Albert Einstein', 'Jane Austen', 'Marilyn Monroe', 'Albert Einstein', 'André Gide', 'Thomas A. Edison', 'Eleanor Roosevelt', 'Steve Martin']\n"
     ]
    }
   ],
   "source": [
    "x = []\n",
    "for i in soup.find_all('small'):\n",
    "    x.append(i.text)\n",
    "print(x)"
   ]
  },
  {
   "cell_type": "code",
   "execution_count": 39,
   "id": "50b7bc1a",
   "metadata": {},
   "outputs": [],
   "source": [
    "for i in range(len(df['author_id'])):\n",
    "    df['author_id'][i] = 'https://quotes.toscrape.com' + df['author_id'][i]\n",
    "\n",
    "#df['author_link'] = 'https://quotes.toscrape.com' + df['author_id']\n"
   ]
  },
  {
   "cell_type": "code",
   "execution_count": 40,
   "id": "3c91a89c",
   "metadata": {},
   "outputs": [
    {
     "data": {
      "text/plain": [
       "'https://quotes.toscrape.com/author/Albert-Einstein'"
      ]
     },
     "execution_count": 40,
     "metadata": {},
     "output_type": "execute_result"
    }
   ],
   "source": [
    "df['author_id'][0]"
   ]
  },
  {
   "cell_type": "code",
   "execution_count": null,
   "id": "1a13efdf",
   "metadata": {},
   "outputs": [],
   "source": []
  }
 ],
 "metadata": {
  "kernelspec": {
   "display_name": "Python 3 (ipykernel)",
   "language": "python",
   "name": "python3"
  },
  "language_info": {
   "codemirror_mode": {
    "name": "ipython",
    "version": 3
   },
   "file_extension": ".py",
   "mimetype": "text/x-python",
   "name": "python",
   "nbconvert_exporter": "python",
   "pygments_lexer": "ipython3",
   "version": "3.10.5"
  }
 },
 "nbformat": 4,
 "nbformat_minor": 5
}
