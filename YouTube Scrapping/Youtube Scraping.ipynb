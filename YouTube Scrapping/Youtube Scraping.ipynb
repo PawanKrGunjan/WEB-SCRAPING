{
 "cells": [
  {
   "cell_type": "code",
   "execution_count": 1,
   "id": "d7a28837",
   "metadata": {},
   "outputs": [],
   "source": [
    "from selenium import webdriver\n",
    "from bs4 import BeautifulSoup\n",
    "\n",
    "import numpy as np\n",
    "import pandas as pd"
   ]
  },
  {
   "cell_type": "code",
   "execution_count": 2,
   "id": "bb98ab1c",
   "metadata": {},
   "outputs": [
    {
     "name": "stderr",
     "output_type": "stream",
     "text": [
      "C:\\Users\\Pawan\\AppData\\Local\\Temp\\ipykernel_9208\\1601409555.py:1: DeprecationWarning: executable_path has been deprecated, please pass in a Service object\n",
      "  browser = webdriver.Chrome(executable_path='chromedriver_win32/chromedriver.exe')\n"
     ]
    }
   ],
   "source": [
    "browser = webdriver.Chrome(executable_path='chromedriver_win32/chromedriver.exe')\n",
    "\n",
    "#browser.get('https://www.youtube.com/c/T-Series/videos')\n",
    "browser.get('https://www.youtube.com/user/moneycontrol/videos')\n",
    "#browser.quit()"
   ]
  },
  {
   "cell_type": "code",
   "execution_count": 3,
   "id": "5d7a06e7",
   "metadata": {},
   "outputs": [],
   "source": [
    "soup = BeautifulSoup(browser.page_source,'html.parser')"
   ]
  },
  {
   "cell_type": "markdown",
   "id": "54104dfd",
   "metadata": {},
   "source": [
    "# Method -1"
   ]
  },
  {
   "cell_type": "code",
   "execution_count": 4,
   "id": "8985a6d3",
   "metadata": {},
   "outputs": [],
   "source": [
    "soup_ = soup.find('ytd-section-list-renderer')\n",
    "sp = soup_.find('ytd-item-section-renderer')"
   ]
  },
  {
   "cell_type": "code",
   "execution_count": 5,
   "id": "4be8fda1",
   "metadata": {},
   "outputs": [
    {
     "name": "stdout",
     "output_type": "stream",
     "text": [
      "       15:39 Now playing             Maruti Grand Vitara | Hybrid SUV  2022 | Mileage, Features, Interiors | Auto Review          624 views1 hour ago\n"
     ]
    }
   ],
   "source": [
    "print(sp.find_all('ytd-grid-video-renderer')[0].text.replace('\\n',' '))"
   ]
  },
  {
   "cell_type": "markdown",
   "id": "18c0b4bd",
   "metadata": {},
   "source": [
    "# Method -2"
   ]
  },
  {
   "cell_type": "code",
   "execution_count": 6,
   "id": "db0d8bc6",
   "metadata": {
    "scrolled": true
   },
   "outputs": [],
   "source": [
    "data = []\n",
    "for sp_ in soup.find_all('ytd-grid-video-renderer'):\n",
    "    title           = sp_.find('a',class_ = \"yt-simple-endpoint style-scope ytd-grid-video-renderer\").text\n",
    "    video_link      = sp_.find('a',class_ = \"yt-simple-endpoint style-scope ytd-grid-video-renderer\").get('href')\n",
    "    try :\n",
    "        video_len   = sp_.find_all('span')[0].text.split()[0]\n",
    "    except:\n",
    "        video_len   = np.nan\n",
    "    \n",
    "    try :\n",
    "        #views       = sp_.find_all('span',class_=\"style-scope ytd-grid-video-renderer\")[0].text\n",
    "        views       =sp_.find_all('span')[3].text\n",
    "    except :\n",
    "        views       = np.nan\n",
    "    \n",
    "    try :\n",
    "        #date_time   = sp_.find_all('span')[4].text\n",
    "        date_time   = sp_.find_all('span',class_=\"style-scope ytd-grid-video-renderer\")[1].text\n",
    "    except:\n",
    "        date_time   = np.nan\n",
    "        \n",
    "    try :\n",
    "        thumbnail_link  = sp_.find('img').get('src').split('?')[0]\n",
    "    except :\n",
    "        thumbnail_link  = np.nan\n",
    "    video_link = 'https://www.youtube.com'+video_link\n",
    "    data.append([title, video_len, views, date_time, video_link, thumbnail_link ])"
   ]
  },
  {
   "cell_type": "code",
   "execution_count": 7,
   "id": "d48ef60f",
   "metadata": {},
   "outputs": [
    {
     "data": {
      "text/plain": [
       "30"
      ]
     },
     "execution_count": 7,
     "metadata": {},
     "output_type": "execute_result"
    }
   ],
   "source": [
    "len(data)"
   ]
  },
  {
   "cell_type": "code",
   "execution_count": 8,
   "id": "7d773553",
   "metadata": {},
   "outputs": [
    {
     "data": {
      "text/html": [
       "<div>\n",
       "<style scoped>\n",
       "    .dataframe tbody tr th:only-of-type {\n",
       "        vertical-align: middle;\n",
       "    }\n",
       "\n",
       "    .dataframe tbody tr th {\n",
       "        vertical-align: top;\n",
       "    }\n",
       "\n",
       "    .dataframe thead th {\n",
       "        text-align: right;\n",
       "    }\n",
       "</style>\n",
       "<table border=\"1\" class=\"dataframe\">\n",
       "  <thead>\n",
       "    <tr style=\"text-align: right;\">\n",
       "      <th></th>\n",
       "      <th>title</th>\n",
       "      <th>video_len</th>\n",
       "      <th>views</th>\n",
       "      <th>date_time</th>\n",
       "      <th>video_link</th>\n",
       "      <th>thumbnail_link</th>\n",
       "    </tr>\n",
       "  </thead>\n",
       "  <tbody>\n",
       "    <tr>\n",
       "      <th>0</th>\n",
       "      <td>Maruti Grand Vitara | Hybrid SUV  2022 | Milea...</td>\n",
       "      <td>15:39</td>\n",
       "      <td>1 hour ago</td>\n",
       "      <td>1 hour ago</td>\n",
       "      <td>https://www.youtube.com/watch?v=Ab3qZKvp2do</td>\n",
       "      <td>https://i.ytimg.com/vi/Ab3qZKvp2do/hqdefault.jpg</td>\n",
       "    </tr>\n",
       "    <tr>\n",
       "      <th>1</th>\n",
       "      <td>Rent Of ₹65,000 For 3BHK In Bhendi Bazar, Mumb...</td>\n",
       "      <td>11:34</td>\n",
       "      <td>3 hours ago</td>\n",
       "      <td>3 hours ago</td>\n",
       "      <td>https://www.youtube.com/watch?v=CXMg4h5TEkM</td>\n",
       "      <td>https://i.ytimg.com/vi/CXMg4h5TEkM/hqdefault.jpg</td>\n",
       "    </tr>\n",
       "    <tr>\n",
       "      <th>2</th>\n",
       "      <td>Live | PM Modi Launches New National Logistics...</td>\n",
       "      <td>34:03</td>\n",
       "      <td>Streamed 17 hours ago</td>\n",
       "      <td>Streamed 17 hours ago</td>\n",
       "      <td>https://www.youtube.com/watch?v=pc4L6W2rM2Q</td>\n",
       "      <td>https://i.ytimg.com/vi/pc4L6W2rM2Q/hqdefault.jpg</td>\n",
       "    </tr>\n",
       "    <tr>\n",
       "      <th>3</th>\n",
       "      <td>Weekend Guide: What to Watch, Read, Listen &amp; M...</td>\n",
       "      <td>3:44</td>\n",
       "      <td>1 day ago</td>\n",
       "      <td>1 day ago</td>\n",
       "      <td>https://www.youtube.com/watch?v=m4Hwph5ZzaQ</td>\n",
       "      <td>https://i.ytimg.com/vi/m4Hwph5ZzaQ/hqdefault.jpg</td>\n",
       "    </tr>\n",
       "    <tr>\n",
       "      <th>4</th>\n",
       "      <td>LIVE: Finance Minister Nirmala Sitharaman At 7...</td>\n",
       "      <td>31:55</td>\n",
       "      <td>Streamed 1 day ago</td>\n",
       "      <td>Streamed 1 day ago</td>\n",
       "      <td>https://www.youtube.com/watch?v=mCu5s05LWSo</td>\n",
       "      <td>https://i.ytimg.com/vi/mCu5s05LWSo/hqdefault.jpg</td>\n",
       "    </tr>\n",
       "  </tbody>\n",
       "</table>\n",
       "</div>"
      ],
      "text/plain": [
       "                                               title video_len  \\\n",
       "0  Maruti Grand Vitara | Hybrid SUV  2022 | Milea...     15:39   \n",
       "1  Rent Of ₹65,000 For 3BHK In Bhendi Bazar, Mumb...     11:34   \n",
       "2  Live | PM Modi Launches New National Logistics...     34:03   \n",
       "3  Weekend Guide: What to Watch, Read, Listen & M...      3:44   \n",
       "4  LIVE: Finance Minister Nirmala Sitharaman At 7...     31:55   \n",
       "\n",
       "                   views              date_time  \\\n",
       "0             1 hour ago             1 hour ago   \n",
       "1            3 hours ago            3 hours ago   \n",
       "2  Streamed 17 hours ago  Streamed 17 hours ago   \n",
       "3              1 day ago              1 day ago   \n",
       "4     Streamed 1 day ago     Streamed 1 day ago   \n",
       "\n",
       "                                    video_link  \\\n",
       "0  https://www.youtube.com/watch?v=Ab3qZKvp2do   \n",
       "1  https://www.youtube.com/watch?v=CXMg4h5TEkM   \n",
       "2  https://www.youtube.com/watch?v=pc4L6W2rM2Q   \n",
       "3  https://www.youtube.com/watch?v=m4Hwph5ZzaQ   \n",
       "4  https://www.youtube.com/watch?v=mCu5s05LWSo   \n",
       "\n",
       "                                     thumbnail_link  \n",
       "0  https://i.ytimg.com/vi/Ab3qZKvp2do/hqdefault.jpg  \n",
       "1  https://i.ytimg.com/vi/CXMg4h5TEkM/hqdefault.jpg  \n",
       "2  https://i.ytimg.com/vi/pc4L6W2rM2Q/hqdefault.jpg  \n",
       "3  https://i.ytimg.com/vi/m4Hwph5ZzaQ/hqdefault.jpg  \n",
       "4  https://i.ytimg.com/vi/mCu5s05LWSo/hqdefault.jpg  "
      ]
     },
     "execution_count": 8,
     "metadata": {},
     "output_type": "execute_result"
    }
   ],
   "source": [
    "df = pd.DataFrame(data, columns=['title', 'video_len', 'views', 'date_time', 'video_link', 'thumbnail_link'])\n",
    "df.head()"
   ]
  },
  {
   "cell_type": "code",
   "execution_count": 9,
   "id": "c20cba2a",
   "metadata": {},
   "outputs": [
    {
     "data": {
      "text/plain": [
       "title              0\n",
       "video_len          0\n",
       "views              0\n",
       "date_time          0\n",
       "video_link         0\n",
       "thumbnail_link    18\n",
       "dtype: int64"
      ]
     },
     "execution_count": 9,
     "metadata": {},
     "output_type": "execute_result"
    }
   ],
   "source": [
    "df.isnull().sum()"
   ]
  },
  {
   "cell_type": "code",
   "execution_count": 10,
   "id": "bdca471c",
   "metadata": {},
   "outputs": [],
   "source": [
    "df.to_csv('moneycontrol.csv', index = False)\n",
    "#df.to_csv('T-Series.csv', index = False)\n",
    "df = pd.read_csv('moneycontrol.csv')"
   ]
  },
  {
   "cell_type": "code",
   "execution_count": 11,
   "id": "38bc875d",
   "metadata": {},
   "outputs": [
    {
     "data": {
      "text/plain": [
       "title             KEC International: Why You Should Buy The Stoc...\n",
       "video_len                                                      3:03\n",
       "views                                                     1 day ago\n",
       "date_time                                                 1 day ago\n",
       "video_link              https://www.youtube.com/watch?v=BuQKgebPdf4\n",
       "thumbnail_link     https://i.ytimg.com/vi/BuQKgebPdf4/hqdefault.jpg\n",
       "Name: 7, dtype: object"
      ]
     },
     "execution_count": 11,
     "metadata": {},
     "output_type": "execute_result"
    }
   ],
   "source": [
    "df.iloc[7]"
   ]
  },
  {
   "cell_type": "markdown",
   "id": "9f66537e",
   "metadata": {},
   "source": [
    "## Video Data Scraping"
   ]
  },
  {
   "cell_type": "code",
   "execution_count": 12,
   "id": "f983a3dd",
   "metadata": {},
   "outputs": [],
   "source": [
    "import time\n",
    "from tqdm import tqdm"
   ]
  },
  {
   "cell_type": "code",
   "execution_count": 13,
   "id": "2f3cad39",
   "metadata": {},
   "outputs": [
    {
     "name": "stderr",
     "output_type": "stream",
     "text": [
      "C:\\Users\\Pawan\\AppData\\Local\\Temp\\ipykernel_9208\\4047452464.py:1: DeprecationWarning: executable_path has been deprecated, please pass in a Service object\n",
      "  browser = webdriver.Chrome('chromedriver_win32/chromedriver.exe')\n",
      "100%|████████████████████████████████| 30/30 [02:12<00:00,  4.42s/it]\n"
     ]
    }
   ],
   "source": [
    "browser = webdriver.Chrome('chromedriver_win32/chromedriver.exe')\n",
    "browser.get('https://www.youtube.com/')\n",
    "time.sleep(1)\n",
    "\n",
    "data = []\n",
    "\n",
    "for link in tqdm(df['video_link']):\n",
    "    browser.get(link)\n",
    "    \n",
    "    time.sleep(1)\n",
    "    \n",
    "    soup = BeautifulSoup(browser.page_source,'html.parser')\n",
    "    try:\n",
    "        views        = soup.find('span', class_='view-count style-scope ytd-video-view-count-renderer').text\n",
    "    except :\n",
    "        views        = np.nan\n",
    "    \n",
    "    try :\n",
    "        title        = soup.find_all('yt-formatted-string', class_= 'style-scope ytd-video-primary-info-renderer')[0].text\n",
    "    except :\n",
    "        title        = np.nan\n",
    "    \n",
    "    try :\n",
    "        date_time    = soup.find_all('yt-formatted-string', class_= 'style-scope ytd-video-primary-info-renderer')[1].text\n",
    "    except :\n",
    "        date_time    = np.nan\n",
    "    \n",
    "    try :\n",
    "        like         = soup.find('yt-formatted-string', class_= 'style-scope ytd-toggle-button-renderer style-text').text\n",
    "    except :\n",
    "        like         = np.nan\n",
    "    \n",
    "    try :\n",
    "        description  = soup.find_all('yt-formatted-string', class_= 'content style-scope ytd-video-secondary-info-renderer')[0].text.split('Follow us')[0].replace('\\n\\n',' ')\n",
    "    except :\n",
    "        description  = np.nan\n",
    "    \n",
    "    data.append([title, date_time, like, views, link, description])"
   ]
  },
  {
   "cell_type": "code",
   "execution_count": 14,
   "id": "0e8ba2a5",
   "metadata": {},
   "outputs": [
    {
     "data": {
      "text/html": [
       "<div>\n",
       "<style scoped>\n",
       "    .dataframe tbody tr th:only-of-type {\n",
       "        vertical-align: middle;\n",
       "    }\n",
       "\n",
       "    .dataframe tbody tr th {\n",
       "        vertical-align: top;\n",
       "    }\n",
       "\n",
       "    .dataframe thead th {\n",
       "        text-align: right;\n",
       "    }\n",
       "</style>\n",
       "<table border=\"1\" class=\"dataframe\">\n",
       "  <thead>\n",
       "    <tr style=\"text-align: right;\">\n",
       "      <th></th>\n",
       "      <th>title</th>\n",
       "      <th>date_time</th>\n",
       "      <th>like</th>\n",
       "      <th>views</th>\n",
       "      <th>link</th>\n",
       "      <th>description</th>\n",
       "    </tr>\n",
       "  </thead>\n",
       "  <tbody>\n",
       "    <tr>\n",
       "      <th>0</th>\n",
       "      <td>Maruti Grand Vitara | Hybrid SUV  2022 | Milea...</td>\n",
       "      <td>Sep 18, 2022</td>\n",
       "      <td>18</td>\n",
       "      <td>624 views</td>\n",
       "      <td>https://www.youtube.com/watch?v=Ab3qZKvp2do</td>\n",
       "      <td>Marking Maruti Suzuki’s entry to the cut-throa...</td>\n",
       "    </tr>\n",
       "    <tr>\n",
       "      <th>1</th>\n",
       "      <td>Rent Of ₹65,000 For 3BHK In Bhendi Bazar, Mumb...</td>\n",
       "      <td>Sep 18, 2022</td>\n",
       "      <td>87</td>\n",
       "      <td>4,259 views</td>\n",
       "      <td>https://www.youtube.com/watch?v=CXMg4h5TEkM</td>\n",
       "      <td>From a small room in a dilapidated building in...</td>\n",
       "    </tr>\n",
       "    <tr>\n",
       "      <th>2</th>\n",
       "      <td>Live | PM Modi Launches New National Logistics...</td>\n",
       "      <td>Streamed live 18 hours ago</td>\n",
       "      <td>144</td>\n",
       "      <td>6,609 views</td>\n",
       "      <td>https://www.youtube.com/watch?v=pc4L6W2rM2Q</td>\n",
       "      <td>Prime Minister Narendra Modi is set to announc...</td>\n",
       "    </tr>\n",
       "    <tr>\n",
       "      <th>3</th>\n",
       "      <td>Weekend Guide: What to Watch, Read, Listen &amp; M...</td>\n",
       "      <td>Sep 16, 2022</td>\n",
       "      <td>24</td>\n",
       "      <td>1,240 views</td>\n",
       "      <td>https://www.youtube.com/watch?v=m4Hwph5ZzaQ</td>\n",
       "      <td>Detailed guide to all the latest OTT releases,...</td>\n",
       "    </tr>\n",
       "    <tr>\n",
       "      <th>4</th>\n",
       "      <td>LIVE: Finance Minister Nirmala Sitharaman At 7...</td>\n",
       "      <td>Streamed live on Sep 16, 2022</td>\n",
       "      <td>48</td>\n",
       "      <td>2,396 views</td>\n",
       "      <td>https://www.youtube.com/watch?v=mCu5s05LWSo</td>\n",
       "      <td>Finance Minister Nirmala Sitharaman delivers t...</td>\n",
       "    </tr>\n",
       "  </tbody>\n",
       "</table>\n",
       "</div>"
      ],
      "text/plain": [
       "                                               title  \\\n",
       "0  Maruti Grand Vitara | Hybrid SUV  2022 | Milea...   \n",
       "1  Rent Of ₹65,000 For 3BHK In Bhendi Bazar, Mumb...   \n",
       "2  Live | PM Modi Launches New National Logistics...   \n",
       "3  Weekend Guide: What to Watch, Read, Listen & M...   \n",
       "4  LIVE: Finance Minister Nirmala Sitharaman At 7...   \n",
       "\n",
       "                       date_time like        views  \\\n",
       "0                   Sep 18, 2022   18    624 views   \n",
       "1                   Sep 18, 2022   87  4,259 views   \n",
       "2     Streamed live 18 hours ago  144  6,609 views   \n",
       "3                   Sep 16, 2022   24  1,240 views   \n",
       "4  Streamed live on Sep 16, 2022   48  2,396 views   \n",
       "\n",
       "                                          link  \\\n",
       "0  https://www.youtube.com/watch?v=Ab3qZKvp2do   \n",
       "1  https://www.youtube.com/watch?v=CXMg4h5TEkM   \n",
       "2  https://www.youtube.com/watch?v=pc4L6W2rM2Q   \n",
       "3  https://www.youtube.com/watch?v=m4Hwph5ZzaQ   \n",
       "4  https://www.youtube.com/watch?v=mCu5s05LWSo   \n",
       "\n",
       "                                         description  \n",
       "0  Marking Maruti Suzuki’s entry to the cut-throa...  \n",
       "1  From a small room in a dilapidated building in...  \n",
       "2  Prime Minister Narendra Modi is set to announc...  \n",
       "3  Detailed guide to all the latest OTT releases,...  \n",
       "4  Finance Minister Nirmala Sitharaman delivers t...  "
      ]
     },
     "execution_count": 14,
     "metadata": {},
     "output_type": "execute_result"
    }
   ],
   "source": [
    "df1 = pd.DataFrame(data, columns=['title', 'date_time', 'like', 'views', 'link', 'description'])\n",
    "df1.head()"
   ]
  },
  {
   "cell_type": "code",
   "execution_count": 15,
   "id": "5a741401",
   "metadata": {},
   "outputs": [
    {
     "data": {
      "text/plain": [
       "title          Maruti Grand Vitara | Hybrid SUV  2022 | Milea...\n",
       "date_time                                           Sep 18, 2022\n",
       "like                                                          18\n",
       "views                                                  624 views\n",
       "link                 https://www.youtube.com/watch?v=Ab3qZKvp2do\n",
       "description    Marking Maruti Suzuki’s entry to the cut-throa...\n",
       "Name: 0, dtype: object"
      ]
     },
     "execution_count": 15,
     "metadata": {},
     "output_type": "execute_result"
    }
   ],
   "source": [
    "df1.iloc[0]"
   ]
  },
  {
   "cell_type": "code",
   "execution_count": 16,
   "id": "0abd61d5",
   "metadata": {},
   "outputs": [
    {
     "data": {
      "text/plain": [
       "title          0\n",
       "date_time      2\n",
       "like           0\n",
       "views          2\n",
       "link           0\n",
       "description    0\n",
       "dtype: int64"
      ]
     },
     "execution_count": 16,
     "metadata": {},
     "output_type": "execute_result"
    }
   ],
   "source": [
    "df1.isnull().sum()"
   ]
  },
  {
   "cell_type": "code",
   "execution_count": 18,
   "id": "5f9e458a",
   "metadata": {},
   "outputs": [
    {
     "name": "stdout",
     "output_type": "stream",
     "text": [
      "<class 'pandas.core.frame.DataFrame'>\n",
      "RangeIndex: 30 entries, 0 to 29\n",
      "Data columns (total 8 columns):\n",
      " #   Column          Non-Null Count  Dtype \n",
      "---  ------          --------------  ----- \n",
      " 0   title           30 non-null     object\n",
      " 1   video_len       30 non-null     object\n",
      " 2   views           30 non-null     object\n",
      " 3   date_time       30 non-null     object\n",
      " 4   video_link      30 non-null     object\n",
      " 5   thumbnail_link  12 non-null     object\n",
      " 6   likes           30 non-null     object\n",
      " 7   Description     30 non-null     object\n",
      "dtypes: object(8)\n",
      "memory usage: 2.0+ KB\n"
     ]
    }
   ],
   "source": [
    "df['likes']       = df1['like']\n",
    "df['Description'] = df1['description']\n",
    "df.info()"
   ]
  },
  {
   "cell_type": "code",
   "execution_count": 19,
   "id": "5b575587",
   "metadata": {},
   "outputs": [
    {
     "data": {
      "text/plain": [
       "title             KEC International: Why You Should Buy The Stoc...\n",
       "video_len                                                      3:03\n",
       "views                                                     1 day ago\n",
       "date_time                                                 1 day ago\n",
       "video_link              https://www.youtube.com/watch?v=BuQKgebPdf4\n",
       "thumbnail_link     https://i.ytimg.com/vi/BuQKgebPdf4/hqdefault.jpg\n",
       "likes                                                            20\n",
       "Description       Shares of KEC International made a bottom at a...\n",
       "Name: 7, dtype: object"
      ]
     },
     "execution_count": 19,
     "metadata": {},
     "output_type": "execute_result"
    }
   ],
   "source": [
    "df.iloc[7]"
   ]
  },
  {
   "cell_type": "code",
   "execution_count": 21,
   "id": "0257c0b4",
   "metadata": {},
   "outputs": [
    {
     "data": {
      "text/html": [
       "<div>\n",
       "<style scoped>\n",
       "    .dataframe tbody tr th:only-of-type {\n",
       "        vertical-align: middle;\n",
       "    }\n",
       "\n",
       "    .dataframe tbody tr th {\n",
       "        vertical-align: top;\n",
       "    }\n",
       "\n",
       "    .dataframe thead th {\n",
       "        text-align: right;\n",
       "    }\n",
       "</style>\n",
       "<table border=\"1\" class=\"dataframe\">\n",
       "  <thead>\n",
       "    <tr style=\"text-align: right;\">\n",
       "      <th></th>\n",
       "      <th>title</th>\n",
       "      <th>video_len</th>\n",
       "      <th>views</th>\n",
       "      <th>date_time</th>\n",
       "      <th>video_link</th>\n",
       "      <th>thumbnail_link</th>\n",
       "      <th>likes</th>\n",
       "      <th>Description</th>\n",
       "    </tr>\n",
       "  </thead>\n",
       "  <tbody>\n",
       "    <tr>\n",
       "      <th>0</th>\n",
       "      <td>Maruti Grand Vitara | Hybrid SUV  2022 | Milea...</td>\n",
       "      <td>15:39</td>\n",
       "      <td>1 hour ago</td>\n",
       "      <td>1 hour ago</td>\n",
       "      <td>https://www.youtube.com/watch?v=Ab3qZKvp2do</td>\n",
       "      <td>https://i.ytimg.com/vi/Ab3qZKvp2do/hqdefault.jpg</td>\n",
       "      <td>18</td>\n",
       "      <td>Marking Maruti Suzuki’s entry to the cut-throa...</td>\n",
       "    </tr>\n",
       "    <tr>\n",
       "      <th>1</th>\n",
       "      <td>Rent Of ₹65,000 For 3BHK In Bhendi Bazar, Mumb...</td>\n",
       "      <td>11:34</td>\n",
       "      <td>3 hours ago</td>\n",
       "      <td>3 hours ago</td>\n",
       "      <td>https://www.youtube.com/watch?v=CXMg4h5TEkM</td>\n",
       "      <td>https://i.ytimg.com/vi/CXMg4h5TEkM/hqdefault.jpg</td>\n",
       "      <td>87</td>\n",
       "      <td>From a small room in a dilapidated building in...</td>\n",
       "    </tr>\n",
       "    <tr>\n",
       "      <th>2</th>\n",
       "      <td>Live | PM Modi Launches New National Logistics...</td>\n",
       "      <td>34:03</td>\n",
       "      <td>Streamed 17 hours ago</td>\n",
       "      <td>Streamed 17 hours ago</td>\n",
       "      <td>https://www.youtube.com/watch?v=pc4L6W2rM2Q</td>\n",
       "      <td>https://i.ytimg.com/vi/pc4L6W2rM2Q/hqdefault.jpg</td>\n",
       "      <td>144</td>\n",
       "      <td>Prime Minister Narendra Modi is set to announc...</td>\n",
       "    </tr>\n",
       "    <tr>\n",
       "      <th>3</th>\n",
       "      <td>Weekend Guide: What to Watch, Read, Listen &amp; M...</td>\n",
       "      <td>3:44</td>\n",
       "      <td>1 day ago</td>\n",
       "      <td>1 day ago</td>\n",
       "      <td>https://www.youtube.com/watch?v=m4Hwph5ZzaQ</td>\n",
       "      <td>https://i.ytimg.com/vi/m4Hwph5ZzaQ/hqdefault.jpg</td>\n",
       "      <td>24</td>\n",
       "      <td>Detailed guide to all the latest OTT releases,...</td>\n",
       "    </tr>\n",
       "    <tr>\n",
       "      <th>4</th>\n",
       "      <td>LIVE: Finance Minister Nirmala Sitharaman At 7...</td>\n",
       "      <td>31:55</td>\n",
       "      <td>Streamed 1 day ago</td>\n",
       "      <td>Streamed 1 day ago</td>\n",
       "      <td>https://www.youtube.com/watch?v=mCu5s05LWSo</td>\n",
       "      <td>https://i.ytimg.com/vi/mCu5s05LWSo/hqdefault.jpg</td>\n",
       "      <td>48</td>\n",
       "      <td>Finance Minister Nirmala Sitharaman delivers t...</td>\n",
       "    </tr>\n",
       "  </tbody>\n",
       "</table>\n",
       "</div>"
      ],
      "text/plain": [
       "                                               title video_len  \\\n",
       "0  Maruti Grand Vitara | Hybrid SUV  2022 | Milea...     15:39   \n",
       "1  Rent Of ₹65,000 For 3BHK In Bhendi Bazar, Mumb...     11:34   \n",
       "2  Live | PM Modi Launches New National Logistics...     34:03   \n",
       "3  Weekend Guide: What to Watch, Read, Listen & M...      3:44   \n",
       "4  LIVE: Finance Minister Nirmala Sitharaman At 7...     31:55   \n",
       "\n",
       "                   views              date_time  \\\n",
       "0             1 hour ago             1 hour ago   \n",
       "1            3 hours ago            3 hours ago   \n",
       "2  Streamed 17 hours ago  Streamed 17 hours ago   \n",
       "3              1 day ago              1 day ago   \n",
       "4     Streamed 1 day ago     Streamed 1 day ago   \n",
       "\n",
       "                                    video_link  \\\n",
       "0  https://www.youtube.com/watch?v=Ab3qZKvp2do   \n",
       "1  https://www.youtube.com/watch?v=CXMg4h5TEkM   \n",
       "2  https://www.youtube.com/watch?v=pc4L6W2rM2Q   \n",
       "3  https://www.youtube.com/watch?v=m4Hwph5ZzaQ   \n",
       "4  https://www.youtube.com/watch?v=mCu5s05LWSo   \n",
       "\n",
       "                                     thumbnail_link  likes  \\\n",
       "0  https://i.ytimg.com/vi/Ab3qZKvp2do/hqdefault.jpg     18   \n",
       "1  https://i.ytimg.com/vi/CXMg4h5TEkM/hqdefault.jpg     87   \n",
       "2  https://i.ytimg.com/vi/pc4L6W2rM2Q/hqdefault.jpg    144   \n",
       "3  https://i.ytimg.com/vi/m4Hwph5ZzaQ/hqdefault.jpg     24   \n",
       "4  https://i.ytimg.com/vi/mCu5s05LWSo/hqdefault.jpg     48   \n",
       "\n",
       "                                         Description  \n",
       "0  Marking Maruti Suzuki’s entry to the cut-throa...  \n",
       "1  From a small room in a dilapidated building in...  \n",
       "2  Prime Minister Narendra Modi is set to announc...  \n",
       "3  Detailed guide to all the latest OTT releases,...  \n",
       "4  Finance Minister Nirmala Sitharaman delivers t...  "
      ]
     },
     "execution_count": 21,
     "metadata": {},
     "output_type": "execute_result"
    }
   ],
   "source": [
    "df.to_csv('moneycontrol_final.csv', index = False)\n",
    "df = pd.read_csv('moneycontrol_final.csv').head()\n",
    "df.head()"
   ]
  },
  {
   "cell_type": "code",
   "execution_count": 22,
   "id": "1716bb05",
   "metadata": {},
   "outputs": [
    {
     "data": {
      "text/html": [
       "<div>\n",
       "<style scoped>\n",
       "    .dataframe tbody tr th:only-of-type {\n",
       "        vertical-align: middle;\n",
       "    }\n",
       "\n",
       "    .dataframe tbody tr th {\n",
       "        vertical-align: top;\n",
       "    }\n",
       "\n",
       "    .dataframe thead th {\n",
       "        text-align: right;\n",
       "    }\n",
       "</style>\n",
       "<table border=\"1\" class=\"dataframe\">\n",
       "  <thead>\n",
       "    <tr style=\"text-align: right;\">\n",
       "      <th></th>\n",
       "      <th>title</th>\n",
       "      <th>video_len</th>\n",
       "      <th>views</th>\n",
       "      <th>date_time</th>\n",
       "      <th>video_link</th>\n",
       "      <th>thumbnail_link</th>\n",
       "      <th>likes</th>\n",
       "      <th>Description</th>\n",
       "    </tr>\n",
       "  </thead>\n",
       "  <tbody>\n",
       "    <tr>\n",
       "      <th>0</th>\n",
       "      <td>Guru Randhawa: Signs (Lyrical) | Man Of The Mo...</td>\n",
       "      <td>2:48</td>\n",
       "      <td>17K views</td>\n",
       "      <td>41 minutes ago</td>\n",
       "      <td>https://www.youtube.com/watch?v=e6yyImES6PE</td>\n",
       "      <td>https://i.ytimg.com/vi/e6yyImES6PE/hqdefault.jpg</td>\n",
       "      <td>1.9K</td>\n",
       "      <td>#SIGNS #gururandhawa #ManOfTheMoon Presenting ...</td>\n",
       "    </tr>\n",
       "    <tr>\n",
       "      <th>1</th>\n",
       "      <td>Thank God | Dialogue Promo 01: Insano Ki Sabse...</td>\n",
       "      <td>0:30</td>\n",
       "      <td>284K views</td>\n",
       "      <td>17 hours ago</td>\n",
       "      <td>https://www.youtube.com/watch?v=HeCZ4_EaSEE</td>\n",
       "      <td>https://i.ytimg.com/vi/HeCZ4_EaSEE/hqdefault.jpg</td>\n",
       "      <td>15K</td>\n",
       "      <td>Iss Deepawali Hoga, Sabhi Karmo Ka HisaabBook ...</td>\n",
       "    </tr>\n",
       "    <tr>\n",
       "      <th>2</th>\n",
       "      <td>Dhokha: Round D Corner | Dialogue Promo 03: Wo...</td>\n",
       "      <td>0:20</td>\n",
       "      <td>104K views</td>\n",
       "      <td>18 hours ago</td>\n",
       "      <td>https://www.youtube.com/watch?v=unhLQ7pi15U</td>\n",
       "      <td>https://i.ytimg.com/vi/unhLQ7pi15U/hqdefault.jpg</td>\n",
       "      <td>2.4K</td>\n",
       "      <td>\"Yahan Har Kadam Par Dhokha Hai\" Pata karo #Sa...</td>\n",
       "    </tr>\n",
       "  </tbody>\n",
       "</table>\n",
       "</div>"
      ],
      "text/plain": [
       "                                               title video_len       views  \\\n",
       "0  Guru Randhawa: Signs (Lyrical) | Man Of The Mo...      2:48   17K views   \n",
       "1  Thank God | Dialogue Promo 01: Insano Ki Sabse...      0:30  284K views   \n",
       "2  Dhokha: Round D Corner | Dialogue Promo 03: Wo...      0:20  104K views   \n",
       "\n",
       "        date_time                                   video_link  \\\n",
       "0  41 minutes ago  https://www.youtube.com/watch?v=e6yyImES6PE   \n",
       "1    17 hours ago  https://www.youtube.com/watch?v=HeCZ4_EaSEE   \n",
       "2    18 hours ago  https://www.youtube.com/watch?v=unhLQ7pi15U   \n",
       "\n",
       "                                     thumbnail_link likes  \\\n",
       "0  https://i.ytimg.com/vi/e6yyImES6PE/hqdefault.jpg  1.9K   \n",
       "1  https://i.ytimg.com/vi/HeCZ4_EaSEE/hqdefault.jpg   15K   \n",
       "2  https://i.ytimg.com/vi/unhLQ7pi15U/hqdefault.jpg  2.4K   \n",
       "\n",
       "                                         Description  \n",
       "0  #SIGNS #gururandhawa #ManOfTheMoon Presenting ...  \n",
       "1  Iss Deepawali Hoga, Sabhi Karmo Ka HisaabBook ...  \n",
       "2  \"Yahan Har Kadam Par Dhokha Hai\" Pata karo #Sa...  "
      ]
     },
     "execution_count": 22,
     "metadata": {},
     "output_type": "execute_result"
    }
   ],
   "source": [
    "pd.read_csv('T-Series.csv').head(3)"
   ]
  },
  {
   "cell_type": "markdown",
   "id": "b477d063",
   "metadata": {},
   "source": [
    "# Quiz"
   ]
  },
  {
   "cell_type": "code",
   "execution_count": null,
   "id": "e720fa6d",
   "metadata": {},
   "outputs": [],
   "source": [
    "sp_ = soup.find_all('ytd-grid-video-renderer')\n",
    "sp_[0].find_all('a')[0].text\n",
    "sp_[0].find('a',class_='yt-simple-endpoint style-scope ytd-grid-video-renderer').get('title')"
   ]
  },
  {
   "cell_type": "code",
   "execution_count": null,
   "id": "7ec4fbca",
   "metadata": {},
   "outputs": [],
   "source": [
    "lisst = []\n",
    "for i in soup.find_all('ytd-grid-video-renderer'):\n",
    "    c = i.find('a',class_='yt-simple-endpoint style-scope ytd-grid-video-renderer').get('title')\n",
    "lisst.append([c])\n",
    "lisst"
   ]
  },
  {
   "cell_type": "code",
   "execution_count": null,
   "id": "30a9ba5f",
   "metadata": {},
   "outputs": [],
   "source": [
    "#df['views'].sort_values(ascending=False)\n",
    "#df['views'].sort_values(ascending=True)"
   ]
  }
 ],
 "metadata": {
  "kernelspec": {
   "display_name": "Python 3 (ipykernel)",
   "language": "python",
   "name": "python3"
  },
  "language_info": {
   "codemirror_mode": {
    "name": "ipython",
    "version": 3
   },
   "file_extension": ".py",
   "mimetype": "text/x-python",
   "name": "python",
   "nbconvert_exporter": "python",
   "pygments_lexer": "ipython3",
   "version": "3.10.5"
  }
 },
 "nbformat": 4,
 "nbformat_minor": 5
}
