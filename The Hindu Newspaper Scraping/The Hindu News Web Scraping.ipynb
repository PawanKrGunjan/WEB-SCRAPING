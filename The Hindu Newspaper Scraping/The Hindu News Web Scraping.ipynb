{
 "cells": [
  {
   "cell_type": "code",
   "execution_count": 1,
   "id": "bfe80960",
   "metadata": {},
   "outputs": [],
   "source": [
    "from selenium import webdriver\n",
    "from bs4 import BeautifulSoup\n",
    "import requests\n",
    "import numpy as np\n",
    "import pandas as pd"
   ]
  },
  {
   "cell_type": "code",
   "execution_count": 2,
   "id": "c405f5b1",
   "metadata": {},
   "outputs": [],
   "source": [
    "res = requests.get('https://www.thehindu.com')\n",
    "soup = BeautifulSoup(res.text, 'html.parser')"
   ]
  },
  {
   "cell_type": "markdown",
   "id": "8a3ac67d",
   "metadata": {},
   "source": [
    "# TRENDING TODAY"
   ]
  },
  {
   "cell_type": "markdown",
   "id": "226b625f",
   "metadata": {},
   "source": [
    "## Top Most Headlines"
   ]
  },
  {
   "cell_type": "code",
   "execution_count": 3,
   "id": "dc762348",
   "metadata": {},
   "outputs": [
    {
     "name": "stdout",
     "output_type": "stream",
     "text": [
      "Joblessness below pre-COVID levels: Finance Ministr\n",
      "https://www.thehindu.com/business/Economy/joblessness-below-pre-covid-levels-finance-ministry/article65903386.ece\n",
      "September 18, 2022 08:16 IST\n",
      "September 17, 2022 22:23 IST\n",
      "https://th-i.thgim.com/public/incoming/73yg1v/article65904080.ece/alternates/BASE_LANDSCAPE/20hyngg_%20job%20seekers%20%2002.jpg\n",
      "Job seekers wait outside a private firm in Hyderabad in January 2022. \n"
     ]
    }
   ],
   "source": [
    "sp = soup.find('h1')\n",
    "\n",
    "news_link              = sp.find('a').get('href')[1:]\n",
    "news_title             = sp.find('a').text[1:-1]\n",
    "Updated                = sp.find('a').get('title').replace('\\n','  ').split('  ')[0][9:]\n",
    "Published              = sp.find('a').get('title').replace('\\n','  ').split('  ')[1][11:]\n",
    "\n",
    "#Special_Correspondent  = soup.find_all('p')[1].text[1:-1]\n",
    "image_link             = soup.find('a',class_ = 'ls50x3Bluebg-img focuspoint').find('img').get('data-original')\n",
    "image_title            = soup.find('a',class_ = 'ls50x3Bluebg-img focuspoint').find('img').get('title')\n",
    "\n",
    "\n",
    "data = [[news_title, news_link, Updated, Published, image_link, image_title]]\n",
    "\n",
    "print(news_title)\n",
    "print(news_link)\n",
    "print(Updated)\n",
    "print(Published)\n",
    "#print(Special_Correspondent)\n",
    "print(image_link)\n",
    "print(image_title)"
   ]
  },
  {
   "cell_type": "markdown",
   "id": "9fabeca4",
   "metadata": {},
   "source": [
    "## Other Top Headlines"
   ]
  },
  {
   "cell_type": "code",
   "execution_count": 4,
   "id": "9402e22e",
   "metadata": {},
   "outputs": [
    {
     "name": "stdout",
     "output_type": "stream",
     "text": [
      "https://www.thehindu.com/news/national/skilling-reskilling-upskilling-new-mantra-for-countrys-youth-says-pm-modi/article65902835.ece\n",
      "Government gives top priority to skill training: PM Modi\n",
      "September 18, 2022 07:23 IST\n",
      "September 17, 2022 17:49 IST\n",
      "https://th-i.thgim.com/public/incoming/73yg1v/article65904080.ece/alternates/BASE_LANDSCAPE/20hyngg_%20job%20seekers%20%2002.jpg\n",
      "Job seekers wait outside a private firm in Hyderabad in January 2022. \n",
      "****************************************************************************************************\n",
      "https://www.thehindu.com/news/national/striped-flight-aircraft-that-flew-in-cheetahs-from-namibia-was-the-flagship-for-an-earlier-conservation-campaign/article65902875.ece\n",
      "Jet that flew in cheetahs had earned its stripes\n",
      "September 18, 2022 00:05 IST\n",
      "September 17, 2022 19:30 IST\n",
      "https://th-i.thgim.com/public/incoming/73yg1v/article65904080.ece/alternates/BASE_LANDSCAPE/20hyngg_%20job%20seekers%20%2002.jpg\n",
      "Job seekers wait outside a private firm in Hyderabad in January 2022. \n",
      "****************************************************************************************************\n",
      "https://www.thehindu.com/news/national/need-to-rethink-collegium-system-of-appointment-suggests-law-minister-kiren-rijiju/article65905457.ece\n",
      "Need to rethink collegium system of appointment, suggests Law Minister Kiren Rijiju\n",
      "September 18, 2022 08:55 IST\n",
      "September 18, 2022 08:55 IST\n",
      "https://th-i.thgim.com/public/incoming/73yg1v/article65904080.ece/alternates/BASE_LANDSCAPE/20hyngg_%20job%20seekers%20%2002.jpg\n",
      "Job seekers wait outside a private firm in Hyderabad in January 2022. \n",
      "****************************************************************************************************\n",
      "https://www.thehindu.com/news/national/president-murmu-london-queen-elizabeth-ii-funeral/article65904287.ece\n",
      "President Murmu arrives in London to attend funeral of Queen Elizabeth II\n",
      "September 18, 2022 02:12 IST\n",
      "September 18, 2022 00:07 IST\n",
      "https://th-i.thgim.com/public/incoming/73yg1v/article65904080.ece/alternates/BASE_LANDSCAPE/20hyngg_%20job%20seekers%20%2002.jpg\n",
      "Job seekers wait outside a private firm in Hyderabad in January 2022. \n",
      "****************************************************************************************************\n",
      "https://www.thehindu.com/sci-tech/energy-and-environment/joymalas-case-throws-light-on-trafficking-of-elephants-from-northeast/article65903708.ece\n",
      "Joymala’s case flags gaps in private ownership norms for elephants\n",
      "September 18, 2022 08:57 IST\n",
      "September 17, 2022 22:11 IST\n",
      "https://th-i.thgim.com/public/incoming/73yg1v/article65904080.ece/alternates/BASE_LANDSCAPE/20hyngg_%20job%20seekers%20%2002.jpg\n",
      "Job seekers wait outside a private firm in Hyderabad in January 2022. \n",
      "****************************************************************************************************\n"
     ]
    }
   ],
   "source": [
    "soup_ = soup.find('div',class_='main')\n",
    "for sp in soup_.find_all('h2'):\n",
    "    try:\n",
    "        news_link      = sp.find('a').get('href')\n",
    "        news_title     = sp.find('a').text.replace('\\n','')\n",
    "        Updated        = sp.find('a').get('title').replace('\\n','  ').split('  ')[0][9:]\n",
    "        Published      = sp.find('a').get('title').replace('\\n','  ').split('  ')[1][11:]\n",
    "    except:\n",
    "        pass\n",
    "    image_link             = soup.find('a',class_ = 'ls50x3Bluebg-img focuspoint').find('img').get('data-original')\n",
    "    image_title            = soup.find('a',class_ = 'ls50x3Bluebg-img focuspoint').find('img').get('title')\n",
    "    \n",
    "    data.append([news_title, news_link, Updated, Published, image_link, image_title])\n",
    "\n",
    "    \n",
    "    print(news_link)\n",
    "    print(news_title)\n",
    "    print(Updated)\n",
    "    print(Published)\n",
    "    print(image_link)\n",
    "    print(image_title)\n",
    "    print('*'*100)"
   ]
  },
  {
   "cell_type": "code",
   "execution_count": 5,
   "id": "ac50d98d",
   "metadata": {},
   "outputs": [
    {
     "data": {
      "text/html": [
       "<div>\n",
       "<style scoped>\n",
       "    .dataframe tbody tr th:only-of-type {\n",
       "        vertical-align: middle;\n",
       "    }\n",
       "\n",
       "    .dataframe tbody tr th {\n",
       "        vertical-align: top;\n",
       "    }\n",
       "\n",
       "    .dataframe thead th {\n",
       "        text-align: right;\n",
       "    }\n",
       "</style>\n",
       "<table border=\"1\" class=\"dataframe\">\n",
       "  <thead>\n",
       "    <tr style=\"text-align: right;\">\n",
       "      <th></th>\n",
       "      <th>news_title</th>\n",
       "      <th>news_link</th>\n",
       "      <th>Last_Updated</th>\n",
       "      <th>Published</th>\n",
       "      <th>image_link</th>\n",
       "      <th>image_title</th>\n",
       "    </tr>\n",
       "  </thead>\n",
       "  <tbody>\n",
       "    <tr>\n",
       "      <th>0</th>\n",
       "      <td>Joblessness below pre-COVID levels: Finance Mi...</td>\n",
       "      <td>https://www.thehindu.com/business/Economy/jobl...</td>\n",
       "      <td>September 18, 2022 08:16 IST</td>\n",
       "      <td>September 17, 2022 22:23 IST</td>\n",
       "      <td>https://th-i.thgim.com/public/incoming/73yg1v/...</td>\n",
       "      <td>Job seekers wait outside a private firm in Hyd...</td>\n",
       "    </tr>\n",
       "    <tr>\n",
       "      <th>1</th>\n",
       "      <td>Government gives top priority to skill trainin...</td>\n",
       "      <td>https://www.thehindu.com/news/national/skillin...</td>\n",
       "      <td>September 18, 2022 07:23 IST</td>\n",
       "      <td>September 17, 2022 17:49 IST</td>\n",
       "      <td>https://th-i.thgim.com/public/incoming/73yg1v/...</td>\n",
       "      <td>Job seekers wait outside a private firm in Hyd...</td>\n",
       "    </tr>\n",
       "    <tr>\n",
       "      <th>2</th>\n",
       "      <td>Jet that flew in cheetahs had earned its stripes</td>\n",
       "      <td>https://www.thehindu.com/news/national/striped...</td>\n",
       "      <td>September 18, 2022 00:05 IST</td>\n",
       "      <td>September 17, 2022 19:30 IST</td>\n",
       "      <td>https://th-i.thgim.com/public/incoming/73yg1v/...</td>\n",
       "      <td>Job seekers wait outside a private firm in Hyd...</td>\n",
       "    </tr>\n",
       "    <tr>\n",
       "      <th>3</th>\n",
       "      <td>Need to rethink collegium system of appointmen...</td>\n",
       "      <td>https://www.thehindu.com/news/national/need-to...</td>\n",
       "      <td>September 18, 2022 08:55 IST</td>\n",
       "      <td>September 18, 2022 08:55 IST</td>\n",
       "      <td>https://th-i.thgim.com/public/incoming/73yg1v/...</td>\n",
       "      <td>Job seekers wait outside a private firm in Hyd...</td>\n",
       "    </tr>\n",
       "    <tr>\n",
       "      <th>4</th>\n",
       "      <td>President Murmu arrives in London to attend fu...</td>\n",
       "      <td>https://www.thehindu.com/news/national/preside...</td>\n",
       "      <td>September 18, 2022 02:12 IST</td>\n",
       "      <td>September 18, 2022 00:07 IST</td>\n",
       "      <td>https://th-i.thgim.com/public/incoming/73yg1v/...</td>\n",
       "      <td>Job seekers wait outside a private firm in Hyd...</td>\n",
       "    </tr>\n",
       "  </tbody>\n",
       "</table>\n",
       "</div>"
      ],
      "text/plain": [
       "                                          news_title  \\\n",
       "0  Joblessness below pre-COVID levels: Finance Mi...   \n",
       "1  Government gives top priority to skill trainin...   \n",
       "2   Jet that flew in cheetahs had earned its stripes   \n",
       "3  Need to rethink collegium system of appointmen...   \n",
       "4  President Murmu arrives in London to attend fu...   \n",
       "\n",
       "                                           news_link  \\\n",
       "0  https://www.thehindu.com/business/Economy/jobl...   \n",
       "1  https://www.thehindu.com/news/national/skillin...   \n",
       "2  https://www.thehindu.com/news/national/striped...   \n",
       "3  https://www.thehindu.com/news/national/need-to...   \n",
       "4  https://www.thehindu.com/news/national/preside...   \n",
       "\n",
       "                   Last_Updated                     Published  \\\n",
       "0  September 18, 2022 08:16 IST  September 17, 2022 22:23 IST   \n",
       "1  September 18, 2022 07:23 IST  September 17, 2022 17:49 IST   \n",
       "2  September 18, 2022 00:05 IST  September 17, 2022 19:30 IST   \n",
       "3  September 18, 2022 08:55 IST  September 18, 2022 08:55 IST   \n",
       "4  September 18, 2022 02:12 IST  September 18, 2022 00:07 IST   \n",
       "\n",
       "                                          image_link  \\\n",
       "0  https://th-i.thgim.com/public/incoming/73yg1v/...   \n",
       "1  https://th-i.thgim.com/public/incoming/73yg1v/...   \n",
       "2  https://th-i.thgim.com/public/incoming/73yg1v/...   \n",
       "3  https://th-i.thgim.com/public/incoming/73yg1v/...   \n",
       "4  https://th-i.thgim.com/public/incoming/73yg1v/...   \n",
       "\n",
       "                                         image_title  \n",
       "0  Job seekers wait outside a private firm in Hyd...  \n",
       "1  Job seekers wait outside a private firm in Hyd...  \n",
       "2  Job seekers wait outside a private firm in Hyd...  \n",
       "3  Job seekers wait outside a private firm in Hyd...  \n",
       "4  Job seekers wait outside a private firm in Hyd...  "
      ]
     },
     "execution_count": 5,
     "metadata": {},
     "output_type": "execute_result"
    }
   ],
   "source": [
    "df1 = pd.DataFrame(data, columns=['news_title', 'news_link', 'Last_Updated', 'Published', 'image_link', 'image_title'])\n",
    "df1.head()"
   ]
  },
  {
   "cell_type": "code",
   "execution_count": 6,
   "id": "0f9870eb",
   "metadata": {},
   "outputs": [
    {
     "name": "stdout",
     "output_type": "stream",
     "text": [
      "<class 'pandas.core.frame.DataFrame'>\n",
      "RangeIndex: 6 entries, 0 to 5\n",
      "Data columns (total 6 columns):\n",
      " #   Column        Non-Null Count  Dtype \n",
      "---  ------        --------------  ----- \n",
      " 0   news_title    6 non-null      object\n",
      " 1   news_link     6 non-null      object\n",
      " 2   Last_Updated  6 non-null      object\n",
      " 3   Published     6 non-null      object\n",
      " 4   image_link    6 non-null      object\n",
      " 5   image_title   6 non-null      object\n",
      "dtypes: object(6)\n",
      "memory usage: 416.0+ bytes\n"
     ]
    }
   ],
   "source": [
    "df1.info()"
   ]
  },
  {
   "cell_type": "code",
   "execution_count": 7,
   "id": "f2e569ed",
   "metadata": {},
   "outputs": [
    {
     "data": {
      "text/plain": [
       "'https://www.thehindu.com/business/Economy/joblessness-below-pre-covid-levels-finance-ministry/article65903386.ece'"
      ]
     },
     "execution_count": 7,
     "metadata": {},
     "output_type": "execute_result"
    }
   ],
   "source": [
    "df1['news_link'].iloc[0]"
   ]
  },
  {
   "cell_type": "markdown",
   "id": "8c4787fa",
   "metadata": {},
   "source": [
    "## Scrap the each news link"
   ]
  },
  {
   "cell_type": "code",
   "execution_count": 35,
   "id": "400ef94e",
   "metadata": {
    "scrolled": false
   },
   "outputs": [],
   "source": [
    "data = []\n",
    "for i in range(len(df1['news_link'])):\n",
    "    res = requests.get(df1['news_link'].iloc[i])\n",
    "    soup2 = BeautifulSoup(res.text,'html.parser')\n",
    "\n",
    "    news_title    = soup2.find('h1').text[1:-1]\n",
    "    city          = soup2.find('div',class_=\"ut-container\").find_all('span')[0].text[1:-1]\n",
    "    published     = soup2.find('div',class_=\"ut-container\").find_all('span')[1].text[1:-1]\n",
    "    Updated       = soup2.find('div',class_=\"ut-container\").find_all('span')[2].text[9:]\n",
    "    image_link    = soup2.find('picture').find('source').get('srcset')\n",
    "    image_title   = soup2.find_all('p')[0].text[1:-1]\n",
    "\n",
    "    text = ''\n",
    "    for i in range(1,len(soup2.find_all('p'))):\n",
    "        text += '\\n\\n'+ soup2.find_all('p')[i].text\n",
    "\n",
    "    data.append([news_title, news_link, Updated, Published, image_link, image_title, city, text])"
   ]
  },
  {
   "cell_type": "code",
   "execution_count": 41,
   "id": "ea04aeb5",
   "metadata": {},
   "outputs": [
    {
     "data": {
      "text/plain": [
       "news_title     Joblessness below pre-COVID levels: Finance Mi...\n",
       "news_link      https://www.thehindu.com/sci-tech/energy-and-e...\n",
       "Updated                             September 18, 2022 10:12 IST\n",
       "Published                           September 17, 2022 22:11 IST\n",
       "image_link     https://th-i.thgim.com/public/incoming/73yg1v/...\n",
       "image_title    Job seekers wait outside a private firm in Hyd...\n",
       "city                                                  NEW DELHI \n",
       "text           \\n\\nDemand for work under the national rural e...\n",
       "Name: 0, dtype: object"
      ]
     },
     "execution_count": 41,
     "metadata": {},
     "output_type": "execute_result"
    }
   ],
   "source": [
    "df = pd.DataFrame(data, \n",
    "                   columns=['news_title', 'news_link', 'Updated', 'Published', 'image_link', 'image_title', 'city','text'])\n",
    "df.iloc[0]"
   ]
  },
  {
   "cell_type": "code",
   "execution_count": 42,
   "id": "049b0b2c",
   "metadata": {},
   "outputs": [
    {
     "data": {
      "text/plain": [
       "0    Joblessness below pre-COVID levels: Finance Mi...\n",
       "1    Government gives top priority to skill trainin...\n",
       "2     Jet that flew in cheetahs had earned its stripes\n",
       "3    Need to rethink collegium system of appointmen...\n",
       "4    President Murmu arrives in London to attend fu...\n",
       "5    Joymala’s case flags gaps in private ownership...\n",
       "Name: news_title, dtype: object"
      ]
     },
     "execution_count": 42,
     "metadata": {},
     "output_type": "execute_result"
    }
   ],
   "source": [
    "df['news_title']"
   ]
  },
  {
   "cell_type": "code",
   "execution_count": 44,
   "id": "74fe5247",
   "metadata": {},
   "outputs": [
    {
     "name": "stdout",
     "output_type": "stream",
     "text": [
      "Joblessness below pre-COVID levels: Finance Ministry\n",
      "https://www.thehindu.com/sci-tech/energy-and-environment/joymalas-case-throws-light-on-trafficking-of-elephants-from-northeast/article65903708.ece\n",
      "September 18, 2022 10:12 IST\n",
      "September 17, 2022 22:11 IST\n",
      "https://th-i.thgim.com/public/incoming/73yg1v/article65904080.ece/alternates/FREE_1200/20hyngg_%20job%20seekers%20%2002.jpg\n",
      "Job seekers wait outside a private firm in Hyderabad in January 2022.\n",
      "| Photo Credit: The Hindu\n",
      "NEW DELHI \n",
      "\n",
      "\n",
      "Demand for work under the national rural employment guarantee scheme hit a two-year low in August, signalling that the recovering economy is creating more jobs in rural as well as urban India, the Union Finance Ministry said on Saturday.   \n",
      "\n",
      "India’s inflation, the Ministry said, is “in control” and expected to moderate in coming months from the 7% mark in August as global supply constraints ease. However, upside risks remain as producers will likely pass on higher input costs to customers “sooner than later” and the decline in Kharif sowing poses concerns on the food inflation front. \n",
      "\n",
      "Stressing that expansion in economic activity along with a spurt in employment opportunities has led to a fall in the unemployment rate to below pre-pandemic levels, the Ministry said that work sought by people under the Mahatma Gandhi National Rural Employment Guarantee Scheme (MGNREGS) has been waning in recent months. \n",
      "\n",
      "“Work demanded under MGNREGS has been diminishing since May and was at its lowest in August 2022, compared to the corresponding period of the previous two years, signalling a possible reduction in the unemployment rate in rural areas,” the Ministry’s economic review of August noted. \n",
      "\n",
      "“This fall can be attributed to a pick-up in agricultural and non-agricultural activities coupled with the end of reverse migration resulting from increased employment opportunities in industrial and urban areas,” it suggested.   \n",
      "\n",
      "As per the Periodic Labour Force Survey, the unemployment rate in urban areas shrank for the fourth consecutive quarter to 7.6% in the April to June quarter (Q1, 2022-23), lower than the corresponding pre-pandemic level, the review pointed out. \n",
      "\n",
      "Employment growth has continued in July and August as well, the Ministry said, citing the S&P Global Purchasing Managers Indices for the Manufacturing and Services sectors and a private job portal’s data. \n",
      "\n",
      "“The unemployment rate is now below pre-pandemic levels as measures taken earlier and later during the pandemic period, to raise employment levels, are coming to fruition,” it reasoned.   \n",
      "\n",
      "Arguing that the surge in private consumption in Q1 may not be driven just by pent-up demand and freer mobility but may also “be a reflection of increasing effectiveness of income support and targeted subsidies provided by the government, creation of jobs from elevated levels of public sector capex, and general rise in employment levels”. \n",
      "\n",
      "“The relatively bright outlook on India’s economic growth and its improving employment levels is also mirrored in the country’s relatively strong position in the external sector,” the Ministry stressed. \n",
      "\n",
      "India’s exports grew at the second highest rate in Q1 despite the ongoing global slowdown and foreign direct investment flows were the fifth largest among a “defined set of developed and developing economies”, it said.      \n",
      "\n",
      "“The rate of job creation in the service sector picked up to its strongest in over 14 years, with improvement seen in each of the sub-sectors including transport, information & communication, finance & insurance and real estate & business services. Naukri Job Speak Index also depicts a similar upswing in the employment generation driven by agriculture, services and construction sector,” the review said. \n",
      "\n",
      "The acceleration in inflation to 6%-plus levels through 2022 was driven more by imported price rise compared to 2021, and that is expected to moderate further as global supply conditions ease, the Ministry said. \n",
      "\n",
      "It blamed the retail inflation’s rebound to 7% in August from a five-month low of 6.7% in July, mainly on food prices, and said the dip in kharif sowing may reduce rice and pulses output, adding to “the upside risk” to food inflation. \n",
      "\n",
      "That core consumer price inflation, which excludes food and energy items, “may remain sticky in the months ahead with the pending pass-through of inputs costs to end consumer product” was another risk, it said. \n",
      "\n",
      "“Pass through is likely to happen sooner than later as strong growth of private consumption, further confirmed by GDP estimates released for the first quarter of 2022-23, may just hold up even if inflationary pressures were to increase,” the Ministry concluded.\n",
      "\n",
      "\n",
      "Our code of editorial values \n",
      "\n",
      "\n",
      "Printable version | Sep 18, 2022 10:13:27 am |\n",
      "https://www.thehindu.com/business/Economy/joblessness-below-pre-covid-levels-finance-ministry/article65903386.ece\n",
      "\n",
      "\n",
      "\n",
      "© THG PUBLISHING PVT LTD.\n",
      "\n"
     ]
    }
   ],
   "source": [
    "print('\\n'.join(df.iloc[0]))"
   ]
  }
 ],
 "metadata": {
  "kernelspec": {
   "display_name": "Python 3 (ipykernel)",
   "language": "python",
   "name": "python3"
  },
  "language_info": {
   "codemirror_mode": {
    "name": "ipython",
    "version": 3
   },
   "file_extension": ".py",
   "mimetype": "text/x-python",
   "name": "python",
   "nbconvert_exporter": "python",
   "pygments_lexer": "ipython3",
   "version": "3.10.5"
  }
 },
 "nbformat": 4,
 "nbformat_minor": 5
}
